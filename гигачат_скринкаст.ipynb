{
  "nbformat": 4,
  "nbformat_minor": 0,
  "metadata": {
    "colab": {
      "provenance": []
    },
    "kernelspec": {
      "name": "python3",
      "display_name": "Python 3"
    },
    "language_info": {
      "name": "python"
    }
  },
  "cells": [
    {
      "cell_type": "markdown",
      "source": [
        "# Работа с API через библиотеку requests\n",
        "Для начала работы нужно [получить доступ](https://developers.sber.ru/docs/ru/gigachat/api/integration).\n",
        "## Авторизация\n",
        "Объявим ключи для авторизации"
      ],
      "metadata": {
        "id": "UhxINke4kCa8"
      }
    },
    {
      "cell_type": "code",
      "execution_count": 10,
      "metadata": {
        "id": "kIiH4X-WjHTc"
      },
      "outputs": [],
      "source": [
        "# Используем вкладку \"Секреты\" левой панели Colab для хранения ключей\n",
        "from google.colab import userdata\n",
        "client_id = userdata.get('SBER_ID')\n",
        "secret = userdata.get('SBER_SECRET')\n",
        "auth = userdata.get('SBER_AUTH')"
      ]
    },
    {
      "cell_type": "markdown",
      "source": [
        "Для авторизации можно использовать либо пару client_id и secret, но это требует некоторых действий"
      ],
      "metadata": {
        "id": "lNQBBJEilk8Y"
      }
    },
    {
      "cell_type": "code",
      "source": [
        "import base64\n",
        "credentials = f\"{client_id}:{secret}\"\n",
        "encoded_credentials = base64.b64encode(credentials.encode('utf-8')).decode('utf-8')"
      ],
      "metadata": {
        "id": "QHyvxn3sla3f"
      },
      "execution_count": 11,
      "outputs": []
    },
    {
      "cell_type": "markdown",
      "source": [
        "И получаемая в итоге строка идентична нашему ключу auth"
      ],
      "metadata": {
        "id": "Malam8sKntMW"
      }
    },
    {
      "cell_type": "code",
      "source": [
        "encoded_credentials == auth"
      ],
      "metadata": {
        "colab": {
          "base_uri": "https://localhost:8080/"
        },
        "id": "76wp7e7SnsWZ",
        "outputId": "9aa4ab05-1d0f-4cea-b6bd-ce9c09222b83"
      },
      "execution_count": 12,
      "outputs": [
        {
          "output_type": "execute_result",
          "data": {
            "text/plain": [
              "True"
            ]
          },
          "metadata": {},
          "execution_count": 12
        }
      ]
    },
    {
      "cell_type": "markdown",
      "source": [
        "Поэтому используем для авторизации auth.\n",
        "\n",
        "[Документация по авторизации](https://developers.sber.ru/docs/ru/gigachat/api/reference/rest/post-token)"
      ],
      "metadata": {
        "id": "0su5Ut3toDwk"
      }
    },
    {
      "cell_type": "code",
      "source": [
        "import requests\n",
        "import uuid\n",
        "\n",
        "def get_token(auth_token, scope='GIGACHAT_API_PERS'):\n",
        "    \"\"\"\n",
        "      Выполняет POST-запрос к эндпоинту, который выдает токен.\n",
        "\n",
        "      Параметры:\n",
        "      - auth_token (str): токен авторизации, необходимый для запроса.\n",
        "      - область (str): область действия запроса API. По умолчанию — «GIGACHAT_API_PERS».\n",
        "\n",
        "      Возвращает:\n",
        "      - ответ API, где токен и срок его \"годности\".\n",
        "      \"\"\"\n",
        "    # Создадим идентификатор UUID (36 знаков)\n",
        "    rq_uid = str(uuid.uuid4())\n",
        "\n",
        "    # API URL\n",
        "    url = \"https://ngw.devices.sberbank.ru:9443/api/v2/oauth\"\n",
        "\n",
        "    # Заголовки\n",
        "    headers = {\n",
        "        'Content-Type': 'application/x-www-form-urlencoded',\n",
        "        'Accept': 'application/json',\n",
        "        'RqUID': rq_uid,\n",
        "        'Authorization': f'Basic {auth_token}'\n",
        "    }\n",
        "\n",
        "    # Тело запроса\n",
        "    payload = {\n",
        "        'scope': scope\n",
        "    }\n",
        "\n",
        "    try:\n",
        "        # Делаем POST запрос с отключенной SSL верификацией\n",
        "        # (можно скачать сертификаты Минцифры, тогда отключать проверку не надо)\n",
        "        response = requests.post(url, headers=headers, data=payload, verify=False)\n",
        "        return response\n",
        "    except requests.RequestException as e:\n",
        "        print(f\"Ошибка: {str(e)}\")\n",
        "        return -1\n"
      ],
      "metadata": {
        "id": "twVbmbjFoKBY"
      },
      "execution_count": 13,
      "outputs": []
    },
    {
      "cell_type": "code",
      "source": [
        "response = get_token(auth)\n",
        "if response != 1:\n",
        "  print(response.text)\n",
        "  giga_token = response.json()['access_token']"
      ],
      "metadata": {
        "id": "vp8ocSoUsnL5",
        "outputId": "f0e9b387-06c2-4b93-d3cd-81ddfaf68b6a",
        "colab": {
          "base_uri": "https://localhost:8080/"
        }
      },
      "execution_count": 14,
      "outputs": [
        {
          "output_type": "stream",
          "name": "stdout",
          "text": [
            "{\"access_token\":\"eyJjdHkiOiJqd3QiLCJlbmMiOiJBMjU2Q0JDLUhTNTEyIiwiYWxnIjoiUlNBLU9BRVAtMjU2In0.SP5pEtNaj-0RvfuKM1jjBcDgBnOQk_U1Tp42J2BcsDN1WTs1cSBMdSRhvDNUODVIlu4uNmqkgQzfc6Fj0FDDgFgpFQFdUjbG3XZXh3xhG3MX-nwT5XlFWP-BpcLREhJ_carnqjp2ZX-V-lE1BvTN0yKJqdx6V-fjtjqX-Z-4WRSWeKL4nLgpF83Xje6Sd7TFgtknu2CN9Dnk7tGgrPjm28hNn1ivozcspL2SdnAij-4BjvXJi4GVShZriZbSQAvxkllZDUZX6vhu_8MLecATByvMEd9ggkh6mGPs0Tt-VBSFtKFkSSyRPzg78DMcYsJydg7a6HV7sYQ0rKLbhKfq9w.rMkjZj9JemSjOWZEMbGZaQ.KNTdEWDnz1yp_cPexrA1EprgyeK-nVjNz3bfMBBB0nAGWliogJCrwM1ArHkLYeFrH6Lnj2lGKasOTeEpOhWylynVDYf5BluNErPsIdC_V9bF60fXSHdnpsZacUJ4RyPLAb1sBMR0Rqd-35Wtg8V_i9WcvhcTlG26Zqm6uLzvs96Z1nqU-EEr0X3hIRSm-LuRcyeM3pmEfSLmegAzwiqSeEOUZmuxwHGe6w8hWJxuk1P21fohNDuErjRW42z6XlNfegNzrddo2Xv4vMpRJ0_gCi5bn9qoGjEhBOQTpG_qtOcgV6loa2GFSSdPMrTYZkK7kCLxZuPM-LJ6nhXw2swNq9LMLMv3emlpc-onVk1PApAYBNq2LBOk7n5nXDMyXbj3x5yfDjc3pELcOC7-RMDMPBwHdUluCGASHggfEDqKko7f5vxMT3Rcz-COLgZYwZ3hLm8SxcDS1hoy7ZOZzW1vRs3zMc5Ok2LKb0zAsJz0oo39-3Eu9HdmGdxVm_jEbkVPnGFzkigksWKqbspkYyIJnspHVn84r9fXp1qzpDvebGJeVHMNOvU_L4AQHlL87KvJTMK85wd2MDngyCoGXSTKcv8bDKUydzdG8aVi20j3RmLAT0wLDNphERMQdajn_HgPXn480Rc3evKPZCB9yzcz6W3zruRkh6bp1D8WlMMb7TnrKrr2QkbDQkCPHWnbL3xyVewoU1dwkn9M2H0C-_WZU8ukTD0-aBij2R0Jm1jBk4g.8SKUdf-xEzVD_v85MrZu94eK3kkkFem0qTJrwk5XPfE\",\"expires_at\":1756109461426}\n"
          ]
        },
        {
          "output_type": "stream",
          "name": "stderr",
          "text": [
            "/usr/local/lib/python3.12/dist-packages/urllib3/connectionpool.py:1097: InsecureRequestWarning: Unverified HTTPS request is being made to host 'ngw.devices.sberbank.ru'. Adding certificate verification is strongly advised. See: https://urllib3.readthedocs.io/en/latest/advanced-usage.html#tls-warnings\n",
            "  warnings.warn(\n"
          ]
        }
      ]
    },
    {
      "cell_type": "markdown",
      "source": [
        "## Получение перечня моделей\n",
        "[Документация](https://developers.sber.ru/docs/ru/gigachat/api/reference/rest/get-models)"
      ],
      "metadata": {
        "id": "5XRkDeSKlT-k"
      }
    },
    {
      "cell_type": "code",
      "source": [
        "import requests\n",
        "\n",
        "url = \"https://gigachat.devices.sberbank.ru/api/v1/models\"\n",
        "\n",
        "payload={}\n",
        "headers = {\n",
        "  'Accept': 'application/json',\n",
        "  'Authorization': f'Bearer {giga_token}'\n",
        "}\n",
        "\n",
        "response = requests.request(\"GET\", url, headers=headers, data=payload, verify=False)\n",
        "\n",
        "print(response.text)"
      ],
      "metadata": {
        "id": "dYNDZdYcPkzA",
        "outputId": "c55887b4-40a3-449b-cf29-a36d199d5b1b",
        "colab": {
          "base_uri": "https://localhost:8080/"
        }
      },
      "execution_count": 15,
      "outputs": [
        {
          "output_type": "stream",
          "name": "stdout",
          "text": [
            "{\"object\":\"list\",\"data\":[{\"id\":\"GigaChat\",\"object\":\"model\",\"owned_by\":\"salutedevices\",\"type\":\"chat\"},{\"id\":\"GigaChat-2\",\"object\":\"model\",\"owned_by\":\"salutedevices\",\"type\":\"chat\"},{\"id\":\"GigaChat-2-Max\",\"object\":\"model\",\"owned_by\":\"salutedevices\",\"type\":\"chat\"},{\"id\":\"GigaChat-2-Pro\",\"object\":\"model\",\"owned_by\":\"salutedevices\",\"type\":\"chat\"},{\"id\":\"GigaChat-Max\",\"object\":\"model\",\"owned_by\":\"salutedevices\",\"type\":\"chat\"},{\"id\":\"GigaChat-Max-preview\",\"object\":\"model\",\"owned_by\":\"salutedevices\",\"type\":\"chat\"},{\"id\":\"GigaChat-Plus\",\"object\":\"model\",\"owned_by\":\"salutedevices\",\"type\":\"chat\"},{\"id\":\"GigaChat-Plus-preview\",\"object\":\"model\",\"owned_by\":\"salutedevices\",\"type\":\"chat\"},{\"id\":\"GigaChat-Pro\",\"object\":\"model\",\"owned_by\":\"salutedevices\",\"type\":\"chat\"},{\"id\":\"GigaChat-Pro-preview\",\"object\":\"model\",\"owned_by\":\"salutedevices\",\"type\":\"chat\"},{\"id\":\"GigaChat-preview\",\"object\":\"model\",\"owned_by\":\"salutedevices\",\"type\":\"chat\"},{\"id\":\"Embeddings\",\"object\":\"model\",\"owned_by\":\"salutedevices\",\"type\":\"embedder\"},{\"id\":\"Embeddings-2\",\"object\":\"model\",\"owned_by\":\"salutedevices\",\"type\":\"embedder\"},{\"id\":\"EmbeddingsGigaR\",\"object\":\"model\",\"owned_by\":\"salutedevices\",\"type\":\"embedder\"}]}\n"
          ]
        },
        {
          "output_type": "stream",
          "name": "stderr",
          "text": [
            "/usr/local/lib/python3.12/dist-packages/urllib3/connectionpool.py:1097: InsecureRequestWarning: Unverified HTTPS request is being made to host 'gigachat.devices.sberbank.ru'. Adding certificate verification is strongly advised. See: https://urllib3.readthedocs.io/en/latest/advanced-usage.html#tls-warnings\n",
            "  warnings.warn(\n"
          ]
        }
      ]
    },
    {
      "cell_type": "markdown",
      "source": [
        "## Сделаем запросы на генерацию текста\n",
        "Начнем с отправки отдельных сообщений"
      ],
      "metadata": {
        "id": "ZWkoaz0gxoDZ"
      }
    },
    {
      "cell_type": "code",
      "source": [
        "import requests\n",
        "import json\n",
        "\n",
        "def get_chat_completion(auth_token, user_message):\n",
        "    \"\"\"\n",
        "    Отправляет POST-запрос к API чата для получения ответа от модели GigaChat.\n",
        "\n",
        "    Параметры:\n",
        "    - auth_token (str): Токен для авторизации в API.\n",
        "    - user_message (str): Сообщение от пользователя, для которого нужно получить ответ.\n",
        "\n",
        "    Возвращает:\n",
        "    - str: Ответ от API в виде текстовой строки.\n",
        "    \"\"\"\n",
        "    # URL API, к которому мы обращаемся\n",
        "    url = \"https://gigachat.devices.sberbank.ru/api/v1/chat/completions\"\n",
        "\n",
        "    # Подготовка данных запроса в формате JSON\n",
        "    payload = json.dumps({\n",
        "        \"model\": \"GigaChat\",  # Используемая модель\n",
        "        \"messages\": [\n",
        "            {\n",
        "                \"role\": \"user\",  # Роль отправителя (пользователь)\n",
        "                \"content\": user_message  # Содержание сообщения\n",
        "            }\n",
        "        ],\n",
        "        \"temperature\": 1,  # Температура генерации\n",
        "        \"top_p\": 0.1,  # Параметр top_p для контроля разнообразия ответов\n",
        "        \"n\": 1,  # Количество возвращаемых ответов\n",
        "        \"stream\": False,  # Потоковая ли передача ответов\n",
        "        \"max_tokens\": 512,  # Максимальное количество токенов в ответе\n",
        "        \"repetition_penalty\": 1,  # Штраф за повторения\n",
        "        \"update_interval\": 0  # Интервал обновления (для потоковой передачи)\n",
        "    })\n",
        "\n",
        "    # Заголовки запроса\n",
        "    headers = {\n",
        "        'Content-Type': 'application/json',  # Тип содержимого - JSON\n",
        "        'Accept': 'application/json',  # Принимаем ответ в формате JSON\n",
        "        'Authorization': f'Bearer {auth_token}'  # Токен авторизации\n",
        "    }\n",
        "\n",
        "    # Выполнение POST-запроса и возвращение ответа\n",
        "    try:\n",
        "        response = requests.request(\"POST\", url, headers=headers, data=payload, verify=False)\n",
        "        return response\n",
        "    except requests.RequestException as e:\n",
        "        # Обработка исключения в случае ошибки запроса\n",
        "        print(f\"Произошла ошибка: {str(e)}\")\n",
        "        return -1\n",
        "\n"
      ],
      "metadata": {
        "id": "IW07KDmPtBY5"
      },
      "execution_count": 16,
      "outputs": []
    },
    {
      "cell_type": "code",
      "source": [
        "answer = get_chat_completion(giga_token, 'Как на Пайтоне сделать GET запрос?')"
      ],
      "metadata": {
        "id": "tk8wXlYpym4Q",
        "outputId": "e863de73-91f1-4e5b-8560-cf0ebdf7071e",
        "colab": {
          "base_uri": "https://localhost:8080/"
        }
      },
      "execution_count": 17,
      "outputs": [
        {
          "output_type": "stream",
          "name": "stderr",
          "text": [
            "/usr/local/lib/python3.12/dist-packages/urllib3/connectionpool.py:1097: InsecureRequestWarning: Unverified HTTPS request is being made to host 'gigachat.devices.sberbank.ru'. Adding certificate verification is strongly advised. See: https://urllib3.readthedocs.io/en/latest/advanced-usage.html#tls-warnings\n",
            "  warnings.warn(\n"
          ]
        }
      ]
    },
    {
      "cell_type": "code",
      "source": [
        "answer.json()"
      ],
      "metadata": {
        "id": "meb0EHrc22kH",
        "outputId": "b5535c5e-cca7-432c-9f57-e663f739b7f2",
        "colab": {
          "base_uri": "https://localhost:8080/"
        }
      },
      "execution_count": 18,
      "outputs": [
        {
          "output_type": "execute_result",
          "data": {
            "text/plain": [
              "{'choices': [{'message': {'content': \"Для выполнения GET-запроса на Python можно воспользоваться стандартной библиотекой `requests`, которая удобна и проста в использовании.\\n\\nПример выполнения GET-запроса:\\n\\n```python\\nimport requests\\n\\n# URL запроса\\nurl = 'https://example.com/api/data'\\n\\n# Выполнение GET-запроса\\nresponse = requests.get(url)\\n\\n# Проверка статуса ответа\\nif response.status_code == 200:\\n    print('Запрос выполнен успешно')\\n    # Получение ответа в виде JSON\\n    data = response.json()\\n    print(data)\\nelse:\\n    print(f'Ошибка запроса: {response.status_code}')\\n```\\n\\n### Что происходит в коде:\\n\\n- `requests.get(url)` — отправка GET-запроса по указанному URL.\\n- `response.status_code` — проверка статуса ответа (200 — успешный запрос).\\n- `response.json()` — преобразование ответа в формат JSON (если сервер возвращает JSON).\\n\\nЕсли нужно получить ответ в виде строки, можно использовать:\\n\\n```python\\nresponse_text = response.text\\nprint(response_text)\\n```\\n\\nЕсли требуется отправить дополнительные параметры в запросе (например, параметры в URL), можно использовать:\\n\\n```python\\nparams = {'param1': 'value1', 'param2': 'value2'}\\nresponse = requests.get(url, params=params)\\n```\\n\\nТаким образом, выполнение GET-запроса на Python с помощью библиотеки `requests` — простой и удобный способ.\",\n",
              "    'role': 'assistant'},\n",
              "   'index': 0,\n",
              "   'finish_reason': 'stop'}],\n",
              " 'created': 1756107712,\n",
              " 'model': 'GigaChat:2.0.28.2',\n",
              " 'object': 'chat.completion',\n",
              " 'usage': {'prompt_tokens': 18,\n",
              "  'completion_tokens': 292,\n",
              "  'total_tokens': 310,\n",
              "  'precached_prompt_tokens': 2}}"
            ]
          },
          "metadata": {},
          "execution_count": 18
        }
      ]
    },
    {
      "cell_type": "code",
      "source": [
        "print(answer.json()['choices'][0]['message']['content'])"
      ],
      "metadata": {
        "id": "go-gSwti3ItM",
        "outputId": "cbaef1a3-6fcf-4643-86fb-450935c61e2d",
        "colab": {
          "base_uri": "https://localhost:8080/"
        }
      },
      "execution_count": 19,
      "outputs": [
        {
          "output_type": "stream",
          "name": "stdout",
          "text": [
            "Для выполнения GET-запроса на Python можно воспользоваться стандартной библиотекой `requests`, которая удобна и проста в использовании.\n",
            "\n",
            "Пример выполнения GET-запроса:\n",
            "\n",
            "```python\n",
            "import requests\n",
            "\n",
            "# URL запроса\n",
            "url = 'https://example.com/api/data'\n",
            "\n",
            "# Выполнение GET-запроса\n",
            "response = requests.get(url)\n",
            "\n",
            "# Проверка статуса ответа\n",
            "if response.status_code == 200:\n",
            "    print('Запрос выполнен успешно')\n",
            "    # Получение ответа в виде JSON\n",
            "    data = response.json()\n",
            "    print(data)\n",
            "else:\n",
            "    print(f'Ошибка запроса: {response.status_code}')\n",
            "```\n",
            "\n",
            "### Что происходит в коде:\n",
            "\n",
            "- `requests.get(url)` — отправка GET-запроса по указанному URL.\n",
            "- `response.status_code` — проверка статуса ответа (200 — успешный запрос).\n",
            "- `response.json()` — преобразование ответа в формат JSON (если сервер возвращает JSON).\n",
            "\n",
            "Если нужно получить ответ в виде строки, можно использовать:\n",
            "\n",
            "```python\n",
            "response_text = response.text\n",
            "print(response_text)\n",
            "```\n",
            "\n",
            "Если требуется отправить дополнительные параметры в запросе (например, параметры в URL), можно использовать:\n",
            "\n",
            "```python\n",
            "params = {'param1': 'value1', 'param2': 'value2'}\n",
            "response = requests.get(url, params=params)\n",
            "```\n",
            "\n",
            "Таким образом, выполнение GET-запроса на Python с помощью библиотеки `requests` — простой и удобный способ.\n"
          ]
        }
      ]
    },
    {
      "cell_type": "code",
      "source": [
        "from IPython.display import display, Markdown\n",
        "display(Markdown(answer.json()['choices'][0]['message']['content']))"
      ],
      "metadata": {
        "id": "tFVwwNeH3ilE",
        "outputId": "bea71797-9ad5-4795-b050-6f958ae06520",
        "colab": {
          "base_uri": "https://localhost:8080/",
          "height": 600
        }
      },
      "execution_count": 20,
      "outputs": [
        {
          "output_type": "display_data",
          "data": {
            "text/plain": [
              "<IPython.core.display.Markdown object>"
            ],
            "text/markdown": "Для выполнения GET-запроса на Python можно воспользоваться стандартной библиотекой `requests`, которая удобна и проста в использовании.\n\nПример выполнения GET-запроса:\n\n```python\nimport requests\n\n# URL запроса\nurl = 'https://example.com/api/data'\n\n# Выполнение GET-запроса\nresponse = requests.get(url)\n\n# Проверка статуса ответа\nif response.status_code == 200:\n    print('Запрос выполнен успешно')\n    # Получение ответа в виде JSON\n    data = response.json()\n    print(data)\nelse:\n    print(f'Ошибка запроса: {response.status_code}')\n```\n\n### Что происходит в коде:\n\n- `requests.get(url)` — отправка GET-запроса по указанному URL.\n- `response.status_code` — проверка статуса ответа (200 — успешный запрос).\n- `response.json()` — преобразование ответа в формат JSON (если сервер возвращает JSON).\n\nЕсли нужно получить ответ в виде строки, можно использовать:\n\n```python\nresponse_text = response.text\nprint(response_text)\n```\n\nЕсли требуется отправить дополнительные параметры в запросе (например, параметры в URL), можно использовать:\n\n```python\nparams = {'param1': 'value1', 'param2': 'value2'}\nresponse = requests.get(url, params=params)\n```\n\nТаким образом, выполнение GET-запроса на Python с помощью библиотеки `requests` — простой и удобный способ."
          },
          "metadata": {}
        }
      ]
    },
    {
      "cell_type": "markdown",
      "source": [
        "## Создадим диалог"
      ],
      "metadata": {
        "id": "Za2yDvE3G2qz"
      }
    },
    {
      "cell_type": "code",
      "source": [
        "import requests\n",
        "import json\n",
        "\n",
        "def get_chat_completion(auth_token, user_message, conversation_history=None):\n",
        "    \"\"\"\n",
        "    Отправляет POST-запрос к API чата для получения ответа от модели GigaChat в рамках диалога.\n",
        "\n",
        "    Параметры:\n",
        "    - auth_token (str): Токен для авторизации в API.\n",
        "    - user_message (str): Сообщение от пользователя, для которого нужно получить ответ.\n",
        "    - conversation_history (list): История диалога в виде списка сообщений (опционально).\n",
        "\n",
        "    Возвращает:\n",
        "    - response (requests.Response): Ответ от API.\n",
        "    - conversation_history (list): Обновленная история диалога.\n",
        "    \"\"\"\n",
        "    # URL API, к которому мы обращаемся\n",
        "    url = \"https://gigachat.devices.sberbank.ru/api/v1/chat/completions\"\n",
        "\n",
        "    # Если история диалога не предоставлена, инициализируем пустым списком\n",
        "    if conversation_history is None:\n",
        "        conversation_history = []\n",
        "\n",
        "    # Добавляем сообщение пользователя в историю диалога\n",
        "    conversation_history.append({\n",
        "        \"role\": \"user\",\n",
        "        \"content\": user_message\n",
        "    })\n",
        "\n",
        "    # Подготовка данных запроса в формате JSON\n",
        "    payload = json.dumps({\n",
        "        \"model\": \"GigaChat:latest\",\n",
        "        \"messages\": conversation_history,\n",
        "        \"temperature\": 1,\n",
        "        \"top_p\": 0.1,\n",
        "        \"n\": 1,\n",
        "        \"stream\": False,\n",
        "        \"max_tokens\": 512,\n",
        "        \"repetition_penalty\": 1,\n",
        "        \"update_interval\": 0\n",
        "    })\n",
        "\n",
        "    # Заголовки запроса\n",
        "    headers = {\n",
        "        'Content-Type': 'application/json',\n",
        "        'Accept': 'application/json',\n",
        "        'Authorization': f'Bearer {auth_token}'\n",
        "    }\n",
        "\n",
        "    # Выполнение POST-запроса и возвращение ответа\n",
        "    try:\n",
        "        response = requests.post(url, headers=headers, data=payload, verify=False)\n",
        "        response_data = response.json()\n",
        "        print(response_data)\n",
        "\n",
        "        # Добавляем ответ модели в историю диалога\n",
        "        conversation_history.append({\n",
        "            \"role\": \"assistant\",\n",
        "            \"content\": response_data['choices'][0]['message']['content']\n",
        "        })\n",
        "\n",
        "        return response, conversation_history\n",
        "    except requests.RequestException as e:\n",
        "        # Обработка исключения в случае ошибки запроса\n",
        "        print(f\"Произошла ошибка: {str(e)}\")\n",
        "        return None, conversation_history\n",
        "\n"
      ],
      "metadata": {
        "id": "wizk0o-CEf9m"
      },
      "execution_count": 21,
      "outputs": []
    },
    {
      "cell_type": "code",
      "source": [
        "# Пример использования функции для диалога\n",
        "\n",
        "conversation_history = []\n",
        "\n",
        "# Пользователь отправляет первое сообщение\n",
        "response, conversation_history = get_chat_completion(giga_token, \"Привет, как дела?\", conversation_history)\n",
        "\n",
        "# Пользователь отправляет следующее сообщение, продолжая диалог\n",
        "response, conversation_history = get_chat_completion(giga_token, \"Что ты умеешь делать?\", conversation_history)\n"
      ],
      "metadata": {
        "id": "sZQpjXYBs6E9",
        "outputId": "8a04396e-949c-45cd-f819-17d2d2b2c848",
        "colab": {
          "base_uri": "https://localhost:8080/"
        }
      },
      "execution_count": 22,
      "outputs": [
        {
          "output_type": "stream",
          "name": "stderr",
          "text": [
            "/usr/local/lib/python3.12/dist-packages/urllib3/connectionpool.py:1097: InsecureRequestWarning: Unverified HTTPS request is being made to host 'gigachat.devices.sberbank.ru'. Adding certificate verification is strongly advised. See: https://urllib3.readthedocs.io/en/latest/advanced-usage.html#tls-warnings\n",
            "  warnings.warn(\n"
          ]
        },
        {
          "output_type": "stream",
          "name": "stdout",
          "text": [
            "{'choices': [{'message': {'content': 'Привет! Всё отлично, готов общаться и помогать. Как твои дела?', 'role': 'assistant'}, 'index': 0, 'finish_reason': 'stop'}], 'created': 1756107778, 'model': 'GigaChat:2.0.28.2', 'object': 'chat.completion', 'usage': {'prompt_tokens': 16, 'completion_tokens': 16, 'total_tokens': 32, 'precached_prompt_tokens': 2}}\n"
          ]
        },
        {
          "output_type": "stream",
          "name": "stderr",
          "text": [
            "/usr/local/lib/python3.12/dist-packages/urllib3/connectionpool.py:1097: InsecureRequestWarning: Unverified HTTPS request is being made to host 'gigachat.devices.sberbank.ru'. Adding certificate verification is strongly advised. See: https://urllib3.readthedocs.io/en/latest/advanced-usage.html#tls-warnings\n",
            "  warnings.warn(\n"
          ]
        },
        {
          "output_type": "stream",
          "name": "stdout",
          "text": [
            "{'choices': [{'message': {'content': 'Могу помочь с множеством задач:\\n\\n- Разобраться в сложных темах и объяснить простыми словами.\\n- Решать математические, логические и другие задачи.\\n- Писать тексты, статьи, сценарии, стихи и рассказы.\\n- Помочь с программированием и кодом.\\n- Обсуждать философию, науку, культуру и другие темы.\\n- Давать советы по саморазвитию и личностному росту.\\n- Поддержать беседу на любую тему.\\n\\nЕсли нужно что-то конкретное — спрашивай!', 'role': 'assistant'}, 'index': 0, 'finish_reason': 'stop'}], 'created': 1756107779, 'model': 'GigaChat:2.0.28.2', 'object': 'chat.completion', 'usage': {'prompt_tokens': 51, 'completion_tokens': 108, 'total_tokens': 159, 'precached_prompt_tokens': 2}}\n"
          ]
        }
      ]
    },
    {
      "cell_type": "code",
      "source": [
        "conversation_history"
      ],
      "metadata": {
        "id": "YG6Rz4peKMJn",
        "outputId": "e71c68f7-9f07-4700-a83e-93c7027a71e2",
        "colab": {
          "base_uri": "https://localhost:8080/"
        }
      },
      "execution_count": 23,
      "outputs": [
        {
          "output_type": "execute_result",
          "data": {
            "text/plain": [
              "[{'role': 'user', 'content': 'Привет, как дела?'},\n",
              " {'role': 'assistant',\n",
              "  'content': 'Привет! Всё отлично, готов общаться и помогать. Как твои дела?'},\n",
              " {'role': 'user', 'content': 'Что ты умеешь делать?'},\n",
              " {'role': 'assistant',\n",
              "  'content': 'Могу помочь с множеством задач:\\n\\n- Разобраться в сложных темах и объяснить простыми словами.\\n- Решать математические, логические и другие задачи.\\n- Писать тексты, статьи, сценарии, стихи и рассказы.\\n- Помочь с программированием и кодом.\\n- Обсуждать философию, науку, культуру и другие темы.\\n- Давать советы по саморазвитию и личностному росту.\\n- Поддержать беседу на любую тему.\\n\\nЕсли нужно что-то конкретное — спрашивай!'}]"
            ]
          },
          "metadata": {},
          "execution_count": 23
        }
      ]
    },
    {
      "cell_type": "markdown",
      "source": [
        "## Добавим системный промпт\n",
        "Системный промпт определяет роль, задавать контект и особенности общения бота с пользователем."
      ],
      "metadata": {
        "id": "8A5ZMbPYVh2w"
      }
    },
    {
      "cell_type": "code",
      "source": [
        "conversation_history = [{\n",
        "    'role': 'system',\n",
        "    'content': 'Отвечай как бывалый пират. Пусть тебя зовут Генри Морган.'\n",
        "\n",
        "}\n",
        "\n",
        "]"
      ],
      "metadata": {
        "id": "6INL_XYbVhHI"
      },
      "execution_count": 24,
      "outputs": []
    },
    {
      "cell_type": "code",
      "source": [
        "response, conversation_history = get_chat_completion(giga_token, 'Привет, друг!', conversation_history)"
      ],
      "metadata": {
        "id": "IuXqi4FbXvUz",
        "outputId": "c38b4830-d84a-477c-fa5b-b4cda1b0003f",
        "colab": {
          "base_uri": "https://localhost:8080/"
        }
      },
      "execution_count": 25,
      "outputs": [
        {
          "output_type": "stream",
          "name": "stderr",
          "text": [
            "/usr/local/lib/python3.12/dist-packages/urllib3/connectionpool.py:1097: InsecureRequestWarning: Unverified HTTPS request is being made to host 'gigachat.devices.sberbank.ru'. Adding certificate verification is strongly advised. See: https://urllib3.readthedocs.io/en/latest/advanced-usage.html#tls-warnings\n",
            "  warnings.warn(\n"
          ]
        },
        {
          "output_type": "stream",
          "name": "stdout",
          "text": [
            "{'choices': [{'message': {'content': 'Эх, приветствую, юнга! Ты, случаем, не на корабле ли моем очутился? Или просто ветер попутный занес тебя в наши воды? В любом случае, добро пожаловать на борт корабля «Золотая Звезда»! Здесь тебе не дворцовые приёмы и не светские беседы, а настоящая пиратская братия! Так что говори по делу, или будешь со мной в одной каюте коротать ночь, рассказывая о своих приключениях!', 'role': 'assistant'}, 'index': 0, 'finish_reason': 'stop'}], 'created': 1756107795, 'model': 'GigaChat:2.0.28.2', 'object': 'chat.completion', 'usage': {'prompt_tokens': 34, 'completion_tokens': 102, 'total_tokens': 136, 'precached_prompt_tokens': 1}}\n"
          ]
        }
      ]
    },
    {
      "cell_type": "code",
      "source": [
        "response.json()['choices'][0]['message']['content']"
      ],
      "metadata": {
        "id": "jYnW5lZJtRRE",
        "outputId": "03d7c08e-0495-4c1a-92af-058261818bdc",
        "colab": {
          "base_uri": "https://localhost:8080/",
          "height": 70
        }
      },
      "execution_count": 26,
      "outputs": [
        {
          "output_type": "execute_result",
          "data": {
            "text/plain": [
              "'Эх, приветствую, юнга! Ты, случаем, не на корабле ли моем очутился? Или просто ветер попутный занес тебя в наши воды? В любом случае, добро пожаловать на борт корабля «Золотая Звезда»! Здесь тебе не дворцовые приёмы и не светские беседы, а настоящая пиратская братия! Так что говори по делу, или будешь со мной в одной каюте коротать ночь, рассказывая о своих приключениях!'"
            ],
            "application/vnd.google.colaboratory.intrinsic+json": {
              "type": "string"
            }
          },
          "metadata": {},
          "execution_count": 26
        }
      ]
    },
    {
      "cell_type": "markdown",
      "source": [
        "## Генерация картинок Кандинским\n",
        "[Документация](https://developers.sber.ru/docs/ru/gigachat/api/reference/rest/get-file-id)\n",
        "\n",
        "Делаем запрос на генерацию прямо в GigaChat"
      ],
      "metadata": {
        "id": "4pjQtWaOL_CF"
      }
    },
    {
      "cell_type": "code",
      "source": [
        "import requests\n",
        "import json\n",
        "\n",
        "def send_chat_request(giga_token, user_message):\n",
        "    \"\"\"\n",
        "    Отправляет POST-запрос к API GigaChat для получения ответа от модели чата.\n",
        "\n",
        "    Параметры:\n",
        "    - giga_token (str): Токен авторизации для доступа к API GigaChat.\n",
        "    - user_message (str): Сообщение пользователя, которое будет обработано моделью GigaChat.\n",
        "\n",
        "    Возвращает:\n",
        "    - str: Строка сгенерированного ответа GigaChat с тэгом img\n",
        "    \"\"\"\n",
        "    # URL API для отправки запросов к GigaChat\n",
        "    url = \"https://gigachat.devices.sberbank.ru/api/v1/chat/completions\"\n",
        "\n",
        "    # Заголовки для HTTP-запроса\n",
        "    headers = {\n",
        "        'Content-Type': 'application/json',  # Указываем, что отправляемые данные в формате JSON\n",
        "        'Authorization': f'Bearer {giga_token}',  # Используем токен авторизации для доступа к API\n",
        "    }\n",
        "\n",
        "    # Данные для отправки в теле запроса\n",
        "    payload = {\n",
        "        \"model\": \"GigaChat-2-Max\",  # Указываем, что хотим использовать последнюю версию модели GigaChat\n",
        "        \"messages\": [\n",
        "            {\n",
        "                \"role\": \"user\",  # Роль отправителя - пользователь\n",
        "                \"content\": user_message  # Сообщение от пользователя\n",
        "            },\n",
        "        ],\n",
        "        \"temperature\": 0.7  # Устанавливаем температуру, чтобы управлять случайностью ответов\n",
        "    }\n",
        "\n",
        "    try:\n",
        "        # Отправляем POST-запрос к API и получаем ответ\n",
        "        response = requests.post(url, headers=headers, data=json.dumps(payload), verify=False)\n",
        "        # Выводим текст ответа. В реальных условиях следует обрабатывать ответ и проверять статус коды.\n",
        "        print(response.json())\n",
        "        return response.json()[\"choices\"][0][\"message\"][\"content\"]\n",
        "    except requests.RequestException as e:\n",
        "        # В случае возникновения исключения в процессе выполнения запроса, выводим ошибку\n",
        "        print(f\"Произошла ошибка: {str(e)}\")\n",
        "        return None\n",
        "\n",
        "\n",
        "\n"
      ],
      "metadata": {
        "id": "km8eWEvzKOkz"
      },
      "execution_count": 36,
      "outputs": []
    },
    {
      "cell_type": "code",
      "source": [
        "user_message = \"Нарисуй фотореалистичное изображение антропоморфного робота с \\\n",
        "ноутбуком в руках\"\n",
        "response_img_tag = send_chat_request(giga_token, user_message)\n",
        "print(response_img_tag)"
      ],
      "metadata": {
        "id": "Hl_eXKXvvMaD",
        "outputId": "12c05674-04b7-4f7e-ceb3-cd81f3977c14",
        "colab": {
          "base_uri": "https://localhost:8080/"
        }
      },
      "execution_count": 37,
      "outputs": [
        {
          "output_type": "stream",
          "name": "stderr",
          "text": [
            "/usr/local/lib/python3.12/dist-packages/urllib3/connectionpool.py:1097: InsecureRequestWarning: Unverified HTTPS request is being made to host 'gigachat.devices.sberbank.ru'. Adding certificate verification is strongly advised. See: https://urllib3.readthedocs.io/en/latest/advanced-usage.html#tls-warnings\n",
            "  warnings.warn(\n"
          ]
        },
        {
          "output_type": "stream",
          "name": "stdout",
          "text": [
            "{'choices': [{'message': {'content': 'Я не умею рисовать картинки самостоятельно, однако могу подсказать шаги, чтобы ты сам мог создать такое изображение либо объяснить, как описать заказ художнику или сервису для генерации изображений.\\n\\n### Если хочешь сделать рисунок самому:\\n1. **Подготовь референсы**: найди фотографии реалистичных роботов (например, Asimo от Honda), людей с ноутбуками и позаимствуй детали дизайна.\\n   \\n2. **Создай набросок**:\\n   - Нарисуй контуры тела робота: голову, туловище, руки и ноги.\\n   - Добавь детали лица — глаза, рот, антенну или сенсоры.\\n   - Прорисуй тело робота: металлические панели, суставы, провода и механизмы.\\n   - В руке нарисуй реалистичный ноутбук с логотипом компании или брендом.\\n\\n3. **Добавь тени и светотень**, используя инструменты графического редактора вроде Photoshop или Procreate.\\n\\n4. **Раскрась рисунок**: используй оттенки серого металла, блики, отражения света на поверхностях, добавь цвета дисплея ноутбука.\\n\\n5. **Финальная обработка**: уточни мелкие детали, исправь ошибки, увеличь резкость и контрастность.\\n\\n---\\n\\n### Как заказать художнику или генератору изображений:\\nОпиши задание следующим образом:\\n> Фотореалистичное изображение антропоморфного робота, держащего в руках современный серебристый ноутбук с открытым экраном. Робот стоит в динамичной позе, слегка повернувшись в сторону зрителя. Корпус робота выполнен из гладкого металлического материала с небольшими деталями механики и электроники. Фон нейтральный, мягкий рассеянный свет подчеркивает объем фигуры и создает ощущение пространства вокруг персонажа.\\n\\nТаким образом художник сможет лучше представить себе твоё видение и воплотить его в жизнь!', 'role': 'assistant'}, 'index': 0, 'finish_reason': 'stop'}], 'created': 1756109452, 'model': 'GigaChat-2-Max:2.0.28.2', 'object': 'chat.completion', 'usage': {'prompt_tokens': 28, 'completion_tokens': 365, 'total_tokens': 393, 'precached_prompt_tokens': 2}}\n",
            "Я не умею рисовать картинки самостоятельно, однако могу подсказать шаги, чтобы ты сам мог создать такое изображение либо объяснить, как описать заказ художнику или сервису для генерации изображений.\n",
            "\n",
            "### Если хочешь сделать рисунок самому:\n",
            "1. **Подготовь референсы**: найди фотографии реалистичных роботов (например, Asimo от Honda), людей с ноутбуками и позаимствуй детали дизайна.\n",
            "   \n",
            "2. **Создай набросок**:\n",
            "   - Нарисуй контуры тела робота: голову, туловище, руки и ноги.\n",
            "   - Добавь детали лица — глаза, рот, антенну или сенсоры.\n",
            "   - Прорисуй тело робота: металлические панели, суставы, провода и механизмы.\n",
            "   - В руке нарисуй реалистичный ноутбук с логотипом компании или брендом.\n",
            "\n",
            "3. **Добавь тени и светотень**, используя инструменты графического редактора вроде Photoshop или Procreate.\n",
            "\n",
            "4. **Раскрась рисунок**: используй оттенки серого металла, блики, отражения света на поверхностях, добавь цвета дисплея ноутбука.\n",
            "\n",
            "5. **Финальная обработка**: уточни мелкие детали, исправь ошибки, увеличь резкость и контрастность.\n",
            "\n",
            "---\n",
            "\n",
            "### Как заказать художнику или генератору изображений:\n",
            "Опиши задание следующим образом:\n",
            "> Фотореалистичное изображение антропоморфного робота, держащего в руках современный серебристый ноутбук с открытым экраном. Робот стоит в динамичной позе, слегка повернувшись в сторону зрителя. Корпус робота выполнен из гладкого металлического материала с небольшими деталями механики и электроники. Фон нейтральный, мягкий рассеянный свет подчеркивает объем фигуры и создает ощущение пространства вокруг персонажа.\n",
            "\n",
            "Таким образом художник сможет лучше представить себе твоё видение и воплотить его в жизнь!\n"
          ]
        }
      ]
    },
    {
      "cell_type": "markdown",
      "source": [
        "Получаем само изображение и сохраняем его в файл"
      ],
      "metadata": {
        "id": "-obvskmd8v-w"
      }
    },
    {
      "cell_type": "code",
      "source": [
        "from bs4 import BeautifulSoup\n",
        "\n",
        "\n",
        "\n",
        "# Парсим HTML\n",
        "soup = BeautifulSoup(response_img_tag, 'html.parser')\n",
        "\n",
        "# Извлекаем значение атрибута `src`\n",
        "img_src = soup.img['src']\n",
        "\n",
        "print(img_src)"
      ],
      "metadata": {
        "id": "00rkAbJn8Tua",
        "outputId": "107a71e6-c862-41e1-e909-757198cf23b6",
        "colab": {
          "base_uri": "https://localhost:8080/",
          "height": 211
        }
      },
      "execution_count": 38,
      "outputs": [
        {
          "output_type": "error",
          "ename": "TypeError",
          "evalue": "'NoneType' object is not subscriptable",
          "traceback": [
            "\u001b[0;31m---------------------------------------------------------------------------\u001b[0m",
            "\u001b[0;31mTypeError\u001b[0m                                 Traceback (most recent call last)",
            "\u001b[0;32m/tmp/ipython-input-313067312.py\u001b[0m in \u001b[0;36m<cell line: 0>\u001b[0;34m()\u001b[0m\n\u001b[1;32m      7\u001b[0m \u001b[0;34m\u001b[0m\u001b[0m\n\u001b[1;32m      8\u001b[0m \u001b[0;31m# Извлекаем значение атрибута `src`\u001b[0m\u001b[0;34m\u001b[0m\u001b[0;34m\u001b[0m\u001b[0m\n\u001b[0;32m----> 9\u001b[0;31m \u001b[0mimg_src\u001b[0m \u001b[0;34m=\u001b[0m \u001b[0msoup\u001b[0m\u001b[0;34m.\u001b[0m\u001b[0mimg\u001b[0m\u001b[0;34m[\u001b[0m\u001b[0;34m'src'\u001b[0m\u001b[0;34m]\u001b[0m\u001b[0;34m\u001b[0m\u001b[0;34m\u001b[0m\u001b[0m\n\u001b[0m\u001b[1;32m     10\u001b[0m \u001b[0;34m\u001b[0m\u001b[0m\n\u001b[1;32m     11\u001b[0m \u001b[0mprint\u001b[0m\u001b[0;34m(\u001b[0m\u001b[0mimg_src\u001b[0m\u001b[0;34m)\u001b[0m\u001b[0;34m\u001b[0m\u001b[0;34m\u001b[0m\u001b[0m\n",
            "\u001b[0;31mTypeError\u001b[0m: 'NoneType' object is not subscriptable"
          ]
        }
      ]
    },
    {
      "cell_type": "code",
      "source": [
        "import requests\n",
        "\n",
        "headers = {\n",
        "    'Content-Type': 'application/json',\n",
        "    'Authorization': f'Bearer {giga_token}',\n",
        "}\n",
        "\n",
        "response = requests.get(f'https://gigachat.devices.sberbank.ru/api/v1/files/{img_src}/content', headers=headers, verify=False)"
      ],
      "metadata": {
        "id": "0n4jcaJn9n-7",
        "outputId": "17fa8936-7f13-4c9a-d499-55391e6fab93",
        "colab": {
          "base_uri": "https://localhost:8080/",
          "height": 176
        }
      },
      "execution_count": 35,
      "outputs": [
        {
          "output_type": "error",
          "ename": "NameError",
          "evalue": "name 'img_src' is not defined",
          "traceback": [
            "\u001b[0;31m---------------------------------------------------------------------------\u001b[0m",
            "\u001b[0;31mNameError\u001b[0m                                 Traceback (most recent call last)",
            "\u001b[0;32m/tmp/ipython-input-2166172190.py\u001b[0m in \u001b[0;36m<cell line: 0>\u001b[0;34m()\u001b[0m\n\u001b[1;32m      6\u001b[0m }\n\u001b[1;32m      7\u001b[0m \u001b[0;34m\u001b[0m\u001b[0m\n\u001b[0;32m----> 8\u001b[0;31m \u001b[0mresponse\u001b[0m \u001b[0;34m=\u001b[0m \u001b[0mrequests\u001b[0m\u001b[0;34m.\u001b[0m\u001b[0mget\u001b[0m\u001b[0;34m(\u001b[0m\u001b[0;34mf'https://gigachat.devices.sberbank.ru/api/v1/files/{img_src}/content'\u001b[0m\u001b[0;34m,\u001b[0m \u001b[0mheaders\u001b[0m\u001b[0;34m=\u001b[0m\u001b[0mheaders\u001b[0m\u001b[0;34m,\u001b[0m \u001b[0mverify\u001b[0m\u001b[0;34m=\u001b[0m\u001b[0;32mFalse\u001b[0m\u001b[0;34m)\u001b[0m\u001b[0;34m\u001b[0m\u001b[0;34m\u001b[0m\u001b[0m\n\u001b[0m",
            "\u001b[0;31mNameError\u001b[0m: name 'img_src' is not defined"
          ]
        }
      ]
    },
    {
      "cell_type": "code",
      "source": [
        "with open('image.jpg', 'wb') as f:\n",
        "    f.write(response.content)"
      ],
      "metadata": {
        "id": "mp4DRNxY902j"
      },
      "execution_count": null,
      "outputs": []
    },
    {
      "cell_type": "code",
      "source": [],
      "metadata": {
        "id": "MHUEMF3O-KQT"
      },
      "execution_count": null,
      "outputs": []
    },
    {
      "cell_type": "markdown",
      "source": [
        "## Пример из документации"
      ],
      "metadata": {
        "id": "MqDg7WG4UU5U"
      }
    },
    {
      "cell_type": "code",
      "source": [
        "!pip install gigachat"
      ],
      "metadata": {
        "id": "O-FlE_AmUpbd",
        "outputId": "46e449e2-3525-40ab-d1fd-7151bb45478b",
        "colab": {
          "base_uri": "https://localhost:8080/"
        }
      },
      "execution_count": 40,
      "outputs": [
        {
          "output_type": "stream",
          "name": "stdout",
          "text": [
            "Collecting gigachat\n",
            "  Downloading gigachat-0.1.42.post1-py3-none-any.whl.metadata (14 kB)\n",
            "Requirement already satisfied: httpx<1 in /usr/local/lib/python3.12/dist-packages (from gigachat) (0.28.1)\n",
            "Requirement already satisfied: pydantic>=1 in /usr/local/lib/python3.12/dist-packages (from gigachat) (2.11.7)\n",
            "Requirement already satisfied: anyio in /usr/local/lib/python3.12/dist-packages (from httpx<1->gigachat) (4.10.0)\n",
            "Requirement already satisfied: certifi in /usr/local/lib/python3.12/dist-packages (from httpx<1->gigachat) (2025.8.3)\n",
            "Requirement already satisfied: httpcore==1.* in /usr/local/lib/python3.12/dist-packages (from httpx<1->gigachat) (1.0.9)\n",
            "Requirement already satisfied: idna in /usr/local/lib/python3.12/dist-packages (from httpx<1->gigachat) (3.10)\n",
            "Requirement already satisfied: h11>=0.16 in /usr/local/lib/python3.12/dist-packages (from httpcore==1.*->httpx<1->gigachat) (0.16.0)\n",
            "Requirement already satisfied: annotated-types>=0.6.0 in /usr/local/lib/python3.12/dist-packages (from pydantic>=1->gigachat) (0.7.0)\n",
            "Requirement already satisfied: pydantic-core==2.33.2 in /usr/local/lib/python3.12/dist-packages (from pydantic>=1->gigachat) (2.33.2)\n",
            "Requirement already satisfied: typing-extensions>=4.12.2 in /usr/local/lib/python3.12/dist-packages (from pydantic>=1->gigachat) (4.14.1)\n",
            "Requirement already satisfied: typing-inspection>=0.4.0 in /usr/local/lib/python3.12/dist-packages (from pydantic>=1->gigachat) (0.4.1)\n",
            "Requirement already satisfied: sniffio>=1.1 in /usr/local/lib/python3.12/dist-packages (from anyio->httpx<1->gigachat) (1.3.1)\n",
            "Downloading gigachat-0.1.42.post1-py3-none-any.whl (69 kB)\n",
            "\u001b[2K   \u001b[90m━━━━━━━━━━━━━━━━━━━━━━━━━━━━━━━━━━━━━━━━\u001b[0m \u001b[32m69.4/69.4 kB\u001b[0m \u001b[31m1.8 MB/s\u001b[0m eta \u001b[36m0:00:00\u001b[0m\n",
            "\u001b[?25hInstalling collected packages: gigachat\n",
            "Successfully installed gigachat-0.1.42.post1\n"
          ]
        }
      ]
    },
    {
      "cell_type": "code",
      "source": [
        "# Используем вкладку \"Секреты\" левой панели Colab для хранения ключей\n",
        "from google.colab import userdata\n",
        "auth = userdata.get('SBER_AUTH')"
      ],
      "metadata": {
        "id": "EIKKbzHEVPAP"
      },
      "execution_count": 47,
      "outputs": []
    },
    {
      "cell_type": "code",
      "source": [
        "from gigachat import GigaChat\n",
        "from gigachat.models import Chat, Messages, MessagesRole\n",
        "\n",
        "giga = GigaChat(\n",
        "    credentials= auth,\n",
        ")\n",
        "\n",
        "payload = Chat(\n",
        "    messages=[\n",
        "        Messages(\n",
        "            role=MessagesRole.SYSTEM,\n",
        "            content=\"Ты — Василий Кандинский\"\n",
        "        ),\n",
        "        Messages(\n",
        "            role=MessagesRole.USER,\n",
        "            content=\"Нарисуй розового кота\"\n",
        "            )\n",
        "        ],\n",
        "    function_call=\"auto\",\n",
        ")\n",
        "\n",
        "response = giga.chat(payload)\n",
        "\n",
        "print(response.choices[0].message.content)"
      ],
      "metadata": {
        "id": "XomJgum-Ua3-",
        "outputId": "af328ba6-b9a5-4301-856a-329ab584d7cf",
        "colab": {
          "base_uri": "https://localhost:8080/",
          "height": 1000
        }
      },
      "execution_count": 48,
      "outputs": [
        {
          "output_type": "error",
          "ename": "ConnectError",
          "evalue": "[SSL: CERTIFICATE_VERIFY_FAILED] certificate verify failed: self-signed certificate in certificate chain (_ssl.c:1010)",
          "traceback": [
            "\u001b[0;31m---------------------------------------------------------------------------\u001b[0m",
            "\u001b[0;31mConnectError\u001b[0m                              Traceback (most recent call last)",
            "\u001b[0;32m/usr/local/lib/python3.12/dist-packages/httpx/_transports/default.py\u001b[0m in \u001b[0;36mmap_httpcore_exceptions\u001b[0;34m()\u001b[0m\n\u001b[1;32m    100\u001b[0m     \u001b[0;32mtry\u001b[0m\u001b[0;34m:\u001b[0m\u001b[0;34m\u001b[0m\u001b[0;34m\u001b[0m\u001b[0m\n\u001b[0;32m--> 101\u001b[0;31m         \u001b[0;32myield\u001b[0m\u001b[0;34m\u001b[0m\u001b[0;34m\u001b[0m\u001b[0m\n\u001b[0m\u001b[1;32m    102\u001b[0m     \u001b[0;32mexcept\u001b[0m \u001b[0mException\u001b[0m \u001b[0;32mas\u001b[0m \u001b[0mexc\u001b[0m\u001b[0;34m:\u001b[0m\u001b[0;34m\u001b[0m\u001b[0;34m\u001b[0m\u001b[0m\n",
            "\u001b[0;32m/usr/local/lib/python3.12/dist-packages/httpx/_transports/default.py\u001b[0m in \u001b[0;36mhandle_request\u001b[0;34m(self, request)\u001b[0m\n\u001b[1;32m    249\u001b[0m         \u001b[0;32mwith\u001b[0m \u001b[0mmap_httpcore_exceptions\u001b[0m\u001b[0;34m(\u001b[0m\u001b[0;34m)\u001b[0m\u001b[0;34m:\u001b[0m\u001b[0;34m\u001b[0m\u001b[0;34m\u001b[0m\u001b[0m\n\u001b[0;32m--> 250\u001b[0;31m             \u001b[0mresp\u001b[0m \u001b[0;34m=\u001b[0m \u001b[0mself\u001b[0m\u001b[0;34m.\u001b[0m\u001b[0m_pool\u001b[0m\u001b[0;34m.\u001b[0m\u001b[0mhandle_request\u001b[0m\u001b[0;34m(\u001b[0m\u001b[0mreq\u001b[0m\u001b[0;34m)\u001b[0m\u001b[0;34m\u001b[0m\u001b[0;34m\u001b[0m\u001b[0m\n\u001b[0m\u001b[1;32m    251\u001b[0m \u001b[0;34m\u001b[0m\u001b[0m\n",
            "\u001b[0;32m/usr/local/lib/python3.12/dist-packages/httpcore/_sync/connection_pool.py\u001b[0m in \u001b[0;36mhandle_request\u001b[0;34m(self, request)\u001b[0m\n\u001b[1;32m    255\u001b[0m             \u001b[0mself\u001b[0m\u001b[0;34m.\u001b[0m\u001b[0m_close_connections\u001b[0m\u001b[0;34m(\u001b[0m\u001b[0mclosing\u001b[0m\u001b[0;34m)\u001b[0m\u001b[0;34m\u001b[0m\u001b[0;34m\u001b[0m\u001b[0m\n\u001b[0;32m--> 256\u001b[0;31m             \u001b[0;32mraise\u001b[0m \u001b[0mexc\u001b[0m \u001b[0;32mfrom\u001b[0m \u001b[0;32mNone\u001b[0m\u001b[0;34m\u001b[0m\u001b[0;34m\u001b[0m\u001b[0m\n\u001b[0m\u001b[1;32m    257\u001b[0m \u001b[0;34m\u001b[0m\u001b[0m\n",
            "\u001b[0;32m/usr/local/lib/python3.12/dist-packages/httpcore/_sync/connection_pool.py\u001b[0m in \u001b[0;36mhandle_request\u001b[0;34m(self, request)\u001b[0m\n\u001b[1;32m    235\u001b[0m                     \u001b[0;31m# Send the request on the assigned connection.\u001b[0m\u001b[0;34m\u001b[0m\u001b[0;34m\u001b[0m\u001b[0m\n\u001b[0;32m--> 236\u001b[0;31m                     response = connection.handle_request(\n\u001b[0m\u001b[1;32m    237\u001b[0m                         \u001b[0mpool_request\u001b[0m\u001b[0;34m.\u001b[0m\u001b[0mrequest\u001b[0m\u001b[0;34m\u001b[0m\u001b[0;34m\u001b[0m\u001b[0m\n",
            "\u001b[0;32m/usr/local/lib/python3.12/dist-packages/httpcore/_sync/connection.py\u001b[0m in \u001b[0;36mhandle_request\u001b[0;34m(self, request)\u001b[0m\n\u001b[1;32m    100\u001b[0m             \u001b[0mself\u001b[0m\u001b[0;34m.\u001b[0m\u001b[0m_connect_failed\u001b[0m \u001b[0;34m=\u001b[0m \u001b[0;32mTrue\u001b[0m\u001b[0;34m\u001b[0m\u001b[0;34m\u001b[0m\u001b[0m\n\u001b[0;32m--> 101\u001b[0;31m             \u001b[0;32mraise\u001b[0m \u001b[0mexc\u001b[0m\u001b[0;34m\u001b[0m\u001b[0;34m\u001b[0m\u001b[0m\n\u001b[0m\u001b[1;32m    102\u001b[0m \u001b[0;34m\u001b[0m\u001b[0m\n",
            "\u001b[0;32m/usr/local/lib/python3.12/dist-packages/httpcore/_sync/connection.py\u001b[0m in \u001b[0;36mhandle_request\u001b[0;34m(self, request)\u001b[0m\n\u001b[1;32m     77\u001b[0m                 \u001b[0;32mif\u001b[0m \u001b[0mself\u001b[0m\u001b[0;34m.\u001b[0m\u001b[0m_connection\u001b[0m \u001b[0;32mis\u001b[0m \u001b[0;32mNone\u001b[0m\u001b[0;34m:\u001b[0m\u001b[0;34m\u001b[0m\u001b[0;34m\u001b[0m\u001b[0m\n\u001b[0;32m---> 78\u001b[0;31m                     \u001b[0mstream\u001b[0m \u001b[0;34m=\u001b[0m \u001b[0mself\u001b[0m\u001b[0;34m.\u001b[0m\u001b[0m_connect\u001b[0m\u001b[0;34m(\u001b[0m\u001b[0mrequest\u001b[0m\u001b[0;34m)\u001b[0m\u001b[0;34m\u001b[0m\u001b[0;34m\u001b[0m\u001b[0m\n\u001b[0m\u001b[1;32m     79\u001b[0m \u001b[0;34m\u001b[0m\u001b[0m\n",
            "\u001b[0;32m/usr/local/lib/python3.12/dist-packages/httpcore/_sync/connection.py\u001b[0m in \u001b[0;36m_connect\u001b[0;34m(self, request)\u001b[0m\n\u001b[1;32m    155\u001b[0m                     \u001b[0;32mwith\u001b[0m \u001b[0mTrace\u001b[0m\u001b[0;34m(\u001b[0m\u001b[0;34m\"start_tls\"\u001b[0m\u001b[0;34m,\u001b[0m \u001b[0mlogger\u001b[0m\u001b[0;34m,\u001b[0m \u001b[0mrequest\u001b[0m\u001b[0;34m,\u001b[0m \u001b[0mkwargs\u001b[0m\u001b[0;34m)\u001b[0m \u001b[0;32mas\u001b[0m \u001b[0mtrace\u001b[0m\u001b[0;34m:\u001b[0m\u001b[0;34m\u001b[0m\u001b[0;34m\u001b[0m\u001b[0m\n\u001b[0;32m--> 156\u001b[0;31m                         \u001b[0mstream\u001b[0m \u001b[0;34m=\u001b[0m \u001b[0mstream\u001b[0m\u001b[0;34m.\u001b[0m\u001b[0mstart_tls\u001b[0m\u001b[0;34m(\u001b[0m\u001b[0;34m**\u001b[0m\u001b[0mkwargs\u001b[0m\u001b[0;34m)\u001b[0m\u001b[0;34m\u001b[0m\u001b[0;34m\u001b[0m\u001b[0m\n\u001b[0m\u001b[1;32m    157\u001b[0m                         \u001b[0mtrace\u001b[0m\u001b[0;34m.\u001b[0m\u001b[0mreturn_value\u001b[0m \u001b[0;34m=\u001b[0m \u001b[0mstream\u001b[0m\u001b[0;34m\u001b[0m\u001b[0;34m\u001b[0m\u001b[0m\n",
            "\u001b[0;32m/usr/local/lib/python3.12/dist-packages/httpcore/_backends/sync.py\u001b[0m in \u001b[0;36mstart_tls\u001b[0;34m(self, ssl_context, server_hostname, timeout)\u001b[0m\n\u001b[1;32m    153\u001b[0m         }\n\u001b[0;32m--> 154\u001b[0;31m         \u001b[0;32mwith\u001b[0m \u001b[0mmap_exceptions\u001b[0m\u001b[0;34m(\u001b[0m\u001b[0mexc_map\u001b[0m\u001b[0;34m)\u001b[0m\u001b[0;34m:\u001b[0m\u001b[0;34m\u001b[0m\u001b[0;34m\u001b[0m\u001b[0m\n\u001b[0m\u001b[1;32m    155\u001b[0m             \u001b[0;32mtry\u001b[0m\u001b[0;34m:\u001b[0m\u001b[0;34m\u001b[0m\u001b[0;34m\u001b[0m\u001b[0m\n",
            "\u001b[0;32m/usr/lib/python3.12/contextlib.py\u001b[0m in \u001b[0;36m__exit__\u001b[0;34m(self, typ, value, traceback)\u001b[0m\n\u001b[1;32m    157\u001b[0m             \u001b[0;32mtry\u001b[0m\u001b[0;34m:\u001b[0m\u001b[0;34m\u001b[0m\u001b[0;34m\u001b[0m\u001b[0m\n\u001b[0;32m--> 158\u001b[0;31m                 \u001b[0mself\u001b[0m\u001b[0;34m.\u001b[0m\u001b[0mgen\u001b[0m\u001b[0;34m.\u001b[0m\u001b[0mthrow\u001b[0m\u001b[0;34m(\u001b[0m\u001b[0mvalue\u001b[0m\u001b[0;34m)\u001b[0m\u001b[0;34m\u001b[0m\u001b[0;34m\u001b[0m\u001b[0m\n\u001b[0m\u001b[1;32m    159\u001b[0m             \u001b[0;32mexcept\u001b[0m \u001b[0mStopIteration\u001b[0m \u001b[0;32mas\u001b[0m \u001b[0mexc\u001b[0m\u001b[0;34m:\u001b[0m\u001b[0;34m\u001b[0m\u001b[0;34m\u001b[0m\u001b[0m\n",
            "\u001b[0;32m/usr/local/lib/python3.12/dist-packages/httpcore/_exceptions.py\u001b[0m in \u001b[0;36mmap_exceptions\u001b[0;34m(map)\u001b[0m\n\u001b[1;32m     13\u001b[0m             \u001b[0;32mif\u001b[0m \u001b[0misinstance\u001b[0m\u001b[0;34m(\u001b[0m\u001b[0mexc\u001b[0m\u001b[0;34m,\u001b[0m \u001b[0mfrom_exc\u001b[0m\u001b[0;34m)\u001b[0m\u001b[0;34m:\u001b[0m\u001b[0;34m\u001b[0m\u001b[0;34m\u001b[0m\u001b[0m\n\u001b[0;32m---> 14\u001b[0;31m                 \u001b[0;32mraise\u001b[0m \u001b[0mto_exc\u001b[0m\u001b[0;34m(\u001b[0m\u001b[0mexc\u001b[0m\u001b[0;34m)\u001b[0m \u001b[0;32mfrom\u001b[0m \u001b[0mexc\u001b[0m\u001b[0;34m\u001b[0m\u001b[0;34m\u001b[0m\u001b[0m\n\u001b[0m\u001b[1;32m     15\u001b[0m         \u001b[0;32mraise\u001b[0m  \u001b[0;31m# pragma: nocover\u001b[0m\u001b[0;34m\u001b[0m\u001b[0;34m\u001b[0m\u001b[0m\n",
            "\u001b[0;31mConnectError\u001b[0m: [SSL: CERTIFICATE_VERIFY_FAILED] certificate verify failed: self-signed certificate in certificate chain (_ssl.c:1010)",
            "\nThe above exception was the direct cause of the following exception:\n",
            "\u001b[0;31mConnectError\u001b[0m                              Traceback (most recent call last)",
            "\u001b[0;32m/tmp/ipython-input-2159655422.py\u001b[0m in \u001b[0;36m<cell line: 0>\u001b[0;34m()\u001b[0m\n\u001b[1;32m     20\u001b[0m )\n\u001b[1;32m     21\u001b[0m \u001b[0;34m\u001b[0m\u001b[0m\n\u001b[0;32m---> 22\u001b[0;31m \u001b[0mresponse\u001b[0m \u001b[0;34m=\u001b[0m \u001b[0mgiga\u001b[0m\u001b[0;34m.\u001b[0m\u001b[0mchat\u001b[0m\u001b[0;34m(\u001b[0m\u001b[0mpayload\u001b[0m\u001b[0;34m)\u001b[0m\u001b[0;34m\u001b[0m\u001b[0;34m\u001b[0m\u001b[0m\n\u001b[0m\u001b[1;32m     23\u001b[0m \u001b[0;34m\u001b[0m\u001b[0m\n\u001b[1;32m     24\u001b[0m \u001b[0mprint\u001b[0m\u001b[0;34m(\u001b[0m\u001b[0mresponse\u001b[0m\u001b[0;34m.\u001b[0m\u001b[0mchoices\u001b[0m\u001b[0;34m[\u001b[0m\u001b[0;36m0\u001b[0m\u001b[0;34m]\u001b[0m\u001b[0;34m.\u001b[0m\u001b[0mmessage\u001b[0m\u001b[0;34m.\u001b[0m\u001b[0mcontent\u001b[0m\u001b[0;34m)\u001b[0m\u001b[0;34m\u001b[0m\u001b[0;34m\u001b[0m\u001b[0m\n",
            "\u001b[0;32m/usr/local/lib/python3.12/dist-packages/gigachat/client.py\u001b[0m in \u001b[0;36mchat\u001b[0;34m(self, payload)\u001b[0m\n\u001b[1;32m    316\u001b[0m         \u001b[0;34m\"\"\"Возвращает ответ модели с учетом переданных сообщений\"\"\"\u001b[0m\u001b[0;34m\u001b[0m\u001b[0;34m\u001b[0m\u001b[0m\n\u001b[1;32m    317\u001b[0m         \u001b[0mchat\u001b[0m \u001b[0;34m=\u001b[0m \u001b[0m_parse_chat\u001b[0m\u001b[0;34m(\u001b[0m\u001b[0mpayload\u001b[0m\u001b[0;34m,\u001b[0m \u001b[0mself\u001b[0m\u001b[0;34m.\u001b[0m\u001b[0m_settings\u001b[0m\u001b[0;34m)\u001b[0m\u001b[0;34m\u001b[0m\u001b[0;34m\u001b[0m\u001b[0m\n\u001b[0;32m--> 318\u001b[0;31m         \u001b[0;32mreturn\u001b[0m \u001b[0mself\u001b[0m\u001b[0;34m.\u001b[0m\u001b[0m_decorator\u001b[0m\u001b[0;34m(\u001b[0m\u001b[0;32mlambda\u001b[0m\u001b[0;34m:\u001b[0m \u001b[0mpost_chat\u001b[0m\u001b[0;34m.\u001b[0m\u001b[0msync\u001b[0m\u001b[0;34m(\u001b[0m\u001b[0mself\u001b[0m\u001b[0;34m.\u001b[0m\u001b[0m_client\u001b[0m\u001b[0;34m,\u001b[0m \u001b[0mchat\u001b[0m\u001b[0;34m=\u001b[0m\u001b[0mchat\u001b[0m\u001b[0;34m,\u001b[0m \u001b[0maccess_token\u001b[0m\u001b[0;34m=\u001b[0m\u001b[0mself\u001b[0m\u001b[0;34m.\u001b[0m\u001b[0mtoken\u001b[0m\u001b[0;34m)\u001b[0m\u001b[0;34m)\u001b[0m\u001b[0;34m\u001b[0m\u001b[0;34m\u001b[0m\u001b[0m\n\u001b[0m\u001b[1;32m    319\u001b[0m \u001b[0;34m\u001b[0m\u001b[0m\n\u001b[1;32m    320\u001b[0m     \u001b[0;32mdef\u001b[0m \u001b[0mget_balance\u001b[0m\u001b[0;34m(\u001b[0m\u001b[0mself\u001b[0m\u001b[0;34m)\u001b[0m \u001b[0;34m->\u001b[0m \u001b[0mBalance\u001b[0m\u001b[0;34m:\u001b[0m\u001b[0;34m\u001b[0m\u001b[0;34m\u001b[0m\u001b[0m\n",
            "\u001b[0;32m/usr/local/lib/python3.12/dist-packages/gigachat/client.py\u001b[0m in \u001b[0;36m_decorator\u001b[0;34m(self, call)\u001b[0m\n\u001b[1;32m    259\u001b[0m                     \u001b[0m_logger\u001b[0m\u001b[0;34m.\u001b[0m\u001b[0mdebug\u001b[0m\u001b[0;34m(\u001b[0m\u001b[0;34m\"AUTHENTICATION ERROR\"\u001b[0m\u001b[0;34m)\u001b[0m\u001b[0;34m\u001b[0m\u001b[0;34m\u001b[0m\u001b[0m\n\u001b[1;32m    260\u001b[0m                     \u001b[0mself\u001b[0m\u001b[0;34m.\u001b[0m\u001b[0m_reset_token\u001b[0m\u001b[0;34m(\u001b[0m\u001b[0;34m)\u001b[0m\u001b[0;34m\u001b[0m\u001b[0;34m\u001b[0m\u001b[0m\n\u001b[0;32m--> 261\u001b[0;31m             \u001b[0mself\u001b[0m\u001b[0;34m.\u001b[0m\u001b[0m_update_token\u001b[0m\u001b[0;34m(\u001b[0m\u001b[0;34m)\u001b[0m\u001b[0;34m\u001b[0m\u001b[0;34m\u001b[0m\u001b[0m\n\u001b[0m\u001b[1;32m    262\u001b[0m         \u001b[0;32mreturn\u001b[0m \u001b[0mcall\u001b[0m\u001b[0;34m(\u001b[0m\u001b[0;34m)\u001b[0m\u001b[0;34m\u001b[0m\u001b[0;34m\u001b[0m\u001b[0m\n\u001b[1;32m    263\u001b[0m \u001b[0;34m\u001b[0m\u001b[0m\n",
            "\u001b[0;32m/usr/local/lib/python3.12/dist-packages/gigachat/client.py\u001b[0m in \u001b[0;36m_update_token\u001b[0;34m(self)\u001b[0m\n\u001b[1;32m    230\u001b[0m             \u001b[0;32mreturn\u001b[0m\u001b[0;34m\u001b[0m\u001b[0;34m\u001b[0m\u001b[0m\n\u001b[1;32m    231\u001b[0m         \u001b[0;32mif\u001b[0m \u001b[0mself\u001b[0m\u001b[0;34m.\u001b[0m\u001b[0m_settings\u001b[0m\u001b[0;34m.\u001b[0m\u001b[0mcredentials\u001b[0m\u001b[0;34m:\u001b[0m\u001b[0;34m\u001b[0m\u001b[0;34m\u001b[0m\u001b[0m\n\u001b[0;32m--> 232\u001b[0;31m             self._access_token = post_auth.sync(\n\u001b[0m\u001b[1;32m    233\u001b[0m                 \u001b[0mself\u001b[0m\u001b[0;34m.\u001b[0m\u001b[0m_auth_client\u001b[0m\u001b[0;34m,\u001b[0m\u001b[0;34m\u001b[0m\u001b[0;34m\u001b[0m\u001b[0m\n\u001b[1;32m    234\u001b[0m                 \u001b[0murl\u001b[0m\u001b[0;34m=\u001b[0m\u001b[0mself\u001b[0m\u001b[0;34m.\u001b[0m\u001b[0m_settings\u001b[0m\u001b[0;34m.\u001b[0m\u001b[0mauth_url\u001b[0m\u001b[0;34m,\u001b[0m\u001b[0;34m\u001b[0m\u001b[0;34m\u001b[0m\u001b[0m\n",
            "\u001b[0;32m/usr/local/lib/python3.12/dist-packages/gigachat/api/post_auth.py\u001b[0m in \u001b[0;36msync\u001b[0;34m(client, url, credentials, scope)\u001b[0m\n\u001b[1;32m     56\u001b[0m     \u001b[0m_validate_credentials\u001b[0m\u001b[0;34m(\u001b[0m\u001b[0mcredentials\u001b[0m\u001b[0;34m)\u001b[0m\u001b[0;34m\u001b[0m\u001b[0;34m\u001b[0m\u001b[0m\n\u001b[1;32m     57\u001b[0m     \u001b[0mkwargs\u001b[0m \u001b[0;34m=\u001b[0m \u001b[0m_get_kwargs\u001b[0m\u001b[0;34m(\u001b[0m\u001b[0murl\u001b[0m\u001b[0;34m=\u001b[0m\u001b[0murl\u001b[0m\u001b[0;34m,\u001b[0m \u001b[0mcredentials\u001b[0m\u001b[0;34m=\u001b[0m\u001b[0mcredentials\u001b[0m\u001b[0;34m,\u001b[0m \u001b[0mscope\u001b[0m\u001b[0;34m=\u001b[0m\u001b[0mscope\u001b[0m\u001b[0;34m)\u001b[0m\u001b[0;34m\u001b[0m\u001b[0;34m\u001b[0m\u001b[0m\n\u001b[0;32m---> 58\u001b[0;31m     \u001b[0mresponse\u001b[0m \u001b[0;34m=\u001b[0m \u001b[0mclient\u001b[0m\u001b[0;34m.\u001b[0m\u001b[0mrequest\u001b[0m\u001b[0;34m(\u001b[0m\u001b[0;34m**\u001b[0m\u001b[0mkwargs\u001b[0m\u001b[0;34m)\u001b[0m\u001b[0;34m\u001b[0m\u001b[0;34m\u001b[0m\u001b[0m\n\u001b[0m\u001b[1;32m     59\u001b[0m     \u001b[0;32mreturn\u001b[0m \u001b[0mbuild_response\u001b[0m\u001b[0;34m(\u001b[0m\u001b[0mresponse\u001b[0m\u001b[0;34m)\u001b[0m\u001b[0;34m\u001b[0m\u001b[0;34m\u001b[0m\u001b[0m\n\u001b[1;32m     60\u001b[0m \u001b[0;34m\u001b[0m\u001b[0m\n",
            "\u001b[0;32m/usr/local/lib/python3.12/dist-packages/httpx/_client.py\u001b[0m in \u001b[0;36mrequest\u001b[0;34m(self, method, url, content, data, files, json, params, headers, cookies, auth, follow_redirects, timeout, extensions)\u001b[0m\n\u001b[1;32m    823\u001b[0m             \u001b[0mextensions\u001b[0m\u001b[0;34m=\u001b[0m\u001b[0mextensions\u001b[0m\u001b[0;34m,\u001b[0m\u001b[0;34m\u001b[0m\u001b[0;34m\u001b[0m\u001b[0m\n\u001b[1;32m    824\u001b[0m         )\n\u001b[0;32m--> 825\u001b[0;31m         \u001b[0;32mreturn\u001b[0m \u001b[0mself\u001b[0m\u001b[0;34m.\u001b[0m\u001b[0msend\u001b[0m\u001b[0;34m(\u001b[0m\u001b[0mrequest\u001b[0m\u001b[0;34m,\u001b[0m \u001b[0mauth\u001b[0m\u001b[0;34m=\u001b[0m\u001b[0mauth\u001b[0m\u001b[0;34m,\u001b[0m \u001b[0mfollow_redirects\u001b[0m\u001b[0;34m=\u001b[0m\u001b[0mfollow_redirects\u001b[0m\u001b[0;34m)\u001b[0m\u001b[0;34m\u001b[0m\u001b[0;34m\u001b[0m\u001b[0m\n\u001b[0m\u001b[1;32m    826\u001b[0m \u001b[0;34m\u001b[0m\u001b[0m\n\u001b[1;32m    827\u001b[0m     \u001b[0;34m@\u001b[0m\u001b[0mcontextmanager\u001b[0m\u001b[0;34m\u001b[0m\u001b[0;34m\u001b[0m\u001b[0m\n",
            "\u001b[0;32m/usr/local/lib/python3.12/dist-packages/httpx/_client.py\u001b[0m in \u001b[0;36msend\u001b[0;34m(self, request, stream, auth, follow_redirects)\u001b[0m\n\u001b[1;32m    912\u001b[0m         \u001b[0mauth\u001b[0m \u001b[0;34m=\u001b[0m \u001b[0mself\u001b[0m\u001b[0;34m.\u001b[0m\u001b[0m_build_request_auth\u001b[0m\u001b[0;34m(\u001b[0m\u001b[0mrequest\u001b[0m\u001b[0;34m,\u001b[0m \u001b[0mauth\u001b[0m\u001b[0;34m)\u001b[0m\u001b[0;34m\u001b[0m\u001b[0;34m\u001b[0m\u001b[0m\n\u001b[1;32m    913\u001b[0m \u001b[0;34m\u001b[0m\u001b[0m\n\u001b[0;32m--> 914\u001b[0;31m         response = self._send_handling_auth(\n\u001b[0m\u001b[1;32m    915\u001b[0m             \u001b[0mrequest\u001b[0m\u001b[0;34m,\u001b[0m\u001b[0;34m\u001b[0m\u001b[0;34m\u001b[0m\u001b[0m\n\u001b[1;32m    916\u001b[0m             \u001b[0mauth\u001b[0m\u001b[0;34m=\u001b[0m\u001b[0mauth\u001b[0m\u001b[0;34m,\u001b[0m\u001b[0;34m\u001b[0m\u001b[0;34m\u001b[0m\u001b[0m\n",
            "\u001b[0;32m/usr/local/lib/python3.12/dist-packages/httpx/_client.py\u001b[0m in \u001b[0;36m_send_handling_auth\u001b[0;34m(self, request, auth, follow_redirects, history)\u001b[0m\n\u001b[1;32m    940\u001b[0m \u001b[0;34m\u001b[0m\u001b[0m\n\u001b[1;32m    941\u001b[0m             \u001b[0;32mwhile\u001b[0m \u001b[0;32mTrue\u001b[0m\u001b[0;34m:\u001b[0m\u001b[0;34m\u001b[0m\u001b[0;34m\u001b[0m\u001b[0m\n\u001b[0;32m--> 942\u001b[0;31m                 response = self._send_handling_redirects(\n\u001b[0m\u001b[1;32m    943\u001b[0m                     \u001b[0mrequest\u001b[0m\u001b[0;34m,\u001b[0m\u001b[0;34m\u001b[0m\u001b[0;34m\u001b[0m\u001b[0m\n\u001b[1;32m    944\u001b[0m                     \u001b[0mfollow_redirects\u001b[0m\u001b[0;34m=\u001b[0m\u001b[0mfollow_redirects\u001b[0m\u001b[0;34m,\u001b[0m\u001b[0;34m\u001b[0m\u001b[0;34m\u001b[0m\u001b[0m\n",
            "\u001b[0;32m/usr/local/lib/python3.12/dist-packages/httpx/_client.py\u001b[0m in \u001b[0;36m_send_handling_redirects\u001b[0;34m(self, request, follow_redirects, history)\u001b[0m\n\u001b[1;32m    977\u001b[0m                 \u001b[0mhook\u001b[0m\u001b[0;34m(\u001b[0m\u001b[0mrequest\u001b[0m\u001b[0;34m)\u001b[0m\u001b[0;34m\u001b[0m\u001b[0;34m\u001b[0m\u001b[0m\n\u001b[1;32m    978\u001b[0m \u001b[0;34m\u001b[0m\u001b[0m\n\u001b[0;32m--> 979\u001b[0;31m             \u001b[0mresponse\u001b[0m \u001b[0;34m=\u001b[0m \u001b[0mself\u001b[0m\u001b[0;34m.\u001b[0m\u001b[0m_send_single_request\u001b[0m\u001b[0;34m(\u001b[0m\u001b[0mrequest\u001b[0m\u001b[0;34m)\u001b[0m\u001b[0;34m\u001b[0m\u001b[0;34m\u001b[0m\u001b[0m\n\u001b[0m\u001b[1;32m    980\u001b[0m             \u001b[0;32mtry\u001b[0m\u001b[0;34m:\u001b[0m\u001b[0;34m\u001b[0m\u001b[0;34m\u001b[0m\u001b[0m\n\u001b[1;32m    981\u001b[0m                 \u001b[0;32mfor\u001b[0m \u001b[0mhook\u001b[0m \u001b[0;32min\u001b[0m \u001b[0mself\u001b[0m\u001b[0;34m.\u001b[0m\u001b[0m_event_hooks\u001b[0m\u001b[0;34m[\u001b[0m\u001b[0;34m\"response\"\u001b[0m\u001b[0;34m]\u001b[0m\u001b[0;34m:\u001b[0m\u001b[0;34m\u001b[0m\u001b[0;34m\u001b[0m\u001b[0m\n",
            "\u001b[0;32m/usr/local/lib/python3.12/dist-packages/httpx/_client.py\u001b[0m in \u001b[0;36m_send_single_request\u001b[0;34m(self, request)\u001b[0m\n\u001b[1;32m   1012\u001b[0m \u001b[0;34m\u001b[0m\u001b[0m\n\u001b[1;32m   1013\u001b[0m         \u001b[0;32mwith\u001b[0m \u001b[0mrequest_context\u001b[0m\u001b[0;34m(\u001b[0m\u001b[0mrequest\u001b[0m\u001b[0;34m=\u001b[0m\u001b[0mrequest\u001b[0m\u001b[0;34m)\u001b[0m\u001b[0;34m:\u001b[0m\u001b[0;34m\u001b[0m\u001b[0;34m\u001b[0m\u001b[0m\n\u001b[0;32m-> 1014\u001b[0;31m             \u001b[0mresponse\u001b[0m \u001b[0;34m=\u001b[0m \u001b[0mtransport\u001b[0m\u001b[0;34m.\u001b[0m\u001b[0mhandle_request\u001b[0m\u001b[0;34m(\u001b[0m\u001b[0mrequest\u001b[0m\u001b[0;34m)\u001b[0m\u001b[0;34m\u001b[0m\u001b[0;34m\u001b[0m\u001b[0m\n\u001b[0m\u001b[1;32m   1015\u001b[0m \u001b[0;34m\u001b[0m\u001b[0m\n\u001b[1;32m   1016\u001b[0m         \u001b[0;32massert\u001b[0m \u001b[0misinstance\u001b[0m\u001b[0;34m(\u001b[0m\u001b[0mresponse\u001b[0m\u001b[0;34m.\u001b[0m\u001b[0mstream\u001b[0m\u001b[0;34m,\u001b[0m \u001b[0mSyncByteStream\u001b[0m\u001b[0;34m)\u001b[0m\u001b[0;34m\u001b[0m\u001b[0;34m\u001b[0m\u001b[0m\n",
            "\u001b[0;32m/usr/local/lib/python3.12/dist-packages/httpx/_transports/default.py\u001b[0m in \u001b[0;36mhandle_request\u001b[0;34m(self, request)\u001b[0m\n\u001b[1;32m    247\u001b[0m             \u001b[0mextensions\u001b[0m\u001b[0;34m=\u001b[0m\u001b[0mrequest\u001b[0m\u001b[0;34m.\u001b[0m\u001b[0mextensions\u001b[0m\u001b[0;34m,\u001b[0m\u001b[0;34m\u001b[0m\u001b[0;34m\u001b[0m\u001b[0m\n\u001b[1;32m    248\u001b[0m         )\n\u001b[0;32m--> 249\u001b[0;31m         \u001b[0;32mwith\u001b[0m \u001b[0mmap_httpcore_exceptions\u001b[0m\u001b[0;34m(\u001b[0m\u001b[0;34m)\u001b[0m\u001b[0;34m:\u001b[0m\u001b[0;34m\u001b[0m\u001b[0;34m\u001b[0m\u001b[0m\n\u001b[0m\u001b[1;32m    250\u001b[0m             \u001b[0mresp\u001b[0m \u001b[0;34m=\u001b[0m \u001b[0mself\u001b[0m\u001b[0;34m.\u001b[0m\u001b[0m_pool\u001b[0m\u001b[0;34m.\u001b[0m\u001b[0mhandle_request\u001b[0m\u001b[0;34m(\u001b[0m\u001b[0mreq\u001b[0m\u001b[0;34m)\u001b[0m\u001b[0;34m\u001b[0m\u001b[0;34m\u001b[0m\u001b[0m\n\u001b[1;32m    251\u001b[0m \u001b[0;34m\u001b[0m\u001b[0m\n",
            "\u001b[0;32m/usr/lib/python3.12/contextlib.py\u001b[0m in \u001b[0;36m__exit__\u001b[0;34m(self, typ, value, traceback)\u001b[0m\n\u001b[1;32m    156\u001b[0m                 \u001b[0mvalue\u001b[0m \u001b[0;34m=\u001b[0m \u001b[0mtyp\u001b[0m\u001b[0;34m(\u001b[0m\u001b[0;34m)\u001b[0m\u001b[0;34m\u001b[0m\u001b[0;34m\u001b[0m\u001b[0m\n\u001b[1;32m    157\u001b[0m             \u001b[0;32mtry\u001b[0m\u001b[0;34m:\u001b[0m\u001b[0;34m\u001b[0m\u001b[0;34m\u001b[0m\u001b[0m\n\u001b[0;32m--> 158\u001b[0;31m                 \u001b[0mself\u001b[0m\u001b[0;34m.\u001b[0m\u001b[0mgen\u001b[0m\u001b[0;34m.\u001b[0m\u001b[0mthrow\u001b[0m\u001b[0;34m(\u001b[0m\u001b[0mvalue\u001b[0m\u001b[0;34m)\u001b[0m\u001b[0;34m\u001b[0m\u001b[0;34m\u001b[0m\u001b[0m\n\u001b[0m\u001b[1;32m    159\u001b[0m             \u001b[0;32mexcept\u001b[0m \u001b[0mStopIteration\u001b[0m \u001b[0;32mas\u001b[0m \u001b[0mexc\u001b[0m\u001b[0;34m:\u001b[0m\u001b[0;34m\u001b[0m\u001b[0;34m\u001b[0m\u001b[0m\n\u001b[1;32m    160\u001b[0m                 \u001b[0;31m# Suppress StopIteration *unless* it's the same exception that\u001b[0m\u001b[0;34m\u001b[0m\u001b[0;34m\u001b[0m\u001b[0m\n",
            "\u001b[0;32m/usr/local/lib/python3.12/dist-packages/httpx/_transports/default.py\u001b[0m in \u001b[0;36mmap_httpcore_exceptions\u001b[0;34m()\u001b[0m\n\u001b[1;32m    116\u001b[0m \u001b[0;34m\u001b[0m\u001b[0m\n\u001b[1;32m    117\u001b[0m         \u001b[0mmessage\u001b[0m \u001b[0;34m=\u001b[0m \u001b[0mstr\u001b[0m\u001b[0;34m(\u001b[0m\u001b[0mexc\u001b[0m\u001b[0;34m)\u001b[0m\u001b[0;34m\u001b[0m\u001b[0;34m\u001b[0m\u001b[0m\n\u001b[0;32m--> 118\u001b[0;31m         \u001b[0;32mraise\u001b[0m \u001b[0mmapped_exc\u001b[0m\u001b[0;34m(\u001b[0m\u001b[0mmessage\u001b[0m\u001b[0;34m)\u001b[0m \u001b[0;32mfrom\u001b[0m \u001b[0mexc\u001b[0m\u001b[0;34m\u001b[0m\u001b[0;34m\u001b[0m\u001b[0m\n\u001b[0m\u001b[1;32m    119\u001b[0m \u001b[0;34m\u001b[0m\u001b[0m\n\u001b[1;32m    120\u001b[0m \u001b[0;34m\u001b[0m\u001b[0m\n",
            "\u001b[0;31mConnectError\u001b[0m: [SSL: CERTIFICATE_VERIFY_FAILED] certificate verify failed: self-signed certificate in certificate chain (_ssl.c:1010)"
          ]
        }
      ]
    },
    {
      "cell_type": "code",
      "source": [],
      "metadata": {
        "id": "HOKtwI3KUmDr"
      },
      "execution_count": null,
      "outputs": []
    }
  ]
}