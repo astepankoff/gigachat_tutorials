{
  "nbformat": 4,
  "nbformat_minor": 0,
  "metadata": {
    "colab": {
      "provenance": []
    },
    "kernelspec": {
      "name": "python3",
      "display_name": "Python 3"
    },
    "language_info": {
      "name": "python"
    }
  },
  "cells": [
    {
      "cell_type": "markdown",
      "source": [
        "# Работа с API через библиотеку requests\n",
        "Для начала работы нужно [получить доступ](https://developers.sber.ru/docs/ru/gigachat/api/integration).\n",
        "## Авторизация\n",
        "Объявим ключи для авторизации"
      ],
      "metadata": {
        "id": "UhxINke4kCa8"
      }
    },
    {
      "cell_type": "code",
      "execution_count": 10,
      "metadata": {
        "id": "kIiH4X-WjHTc"
      },
      "outputs": [],
      "source": [
        "# Используем вкладку \"Секреты\" левой панели Colab для хранения ключей\n",
        "from google.colab import userdata\n",
        "client_id = userdata.get('SBER_ID')\n",
        "secret = userdata.get('SBER_SECRET')\n",
        "auth = userdata.get('SBER_AUTH')"
      ]
    },
    {
      "cell_type": "markdown",
      "source": [
        "Для авторизации можно использовать либо пару client_id и secret, но это требует некоторых действий"
      ],
      "metadata": {
        "id": "lNQBBJEilk8Y"
      }
    },
    {
      "cell_type": "code",
      "source": [
        "import base64\n",
        "credentials = f\"{client_id}:{secret}\"\n",
        "encoded_credentials = base64.b64encode(credentials.encode('utf-8')).decode('utf-8')"
      ],
      "metadata": {
        "id": "QHyvxn3sla3f"
      },
      "execution_count": 11,
      "outputs": []
    },
    {
      "cell_type": "markdown",
      "source": [
        "И получаемая в итоге строка идентична нашему ключу auth"
      ],
      "metadata": {
        "id": "Malam8sKntMW"
      }
    },
    {
      "cell_type": "code",
      "source": [
        "encoded_credentials == auth"
      ],
      "metadata": {
        "colab": {
          "base_uri": "https://localhost:8080/"
        },
        "id": "76wp7e7SnsWZ",
        "outputId": "9aa4ab05-1d0f-4cea-b6bd-ce9c09222b83"
      },
      "execution_count": 12,
      "outputs": [
        {
          "output_type": "execute_result",
          "data": {
            "text/plain": [
              "True"
            ]
          },
          "metadata": {},
          "execution_count": 12
        }
      ]
    },
    {
      "cell_type": "markdown",
      "source": [
        "Поэтому используем для авторизации auth.\n",
        "\n",
        "[Документация по авторизации](https://developers.sber.ru/docs/ru/gigachat/api/reference/rest/post-token)"
      ],
      "metadata": {
        "id": "0su5Ut3toDwk"
      }
    },
    {
      "cell_type": "code",
      "source": [
        "import requests\n",
        "import uuid\n",
        "\n",
        "def get_token(auth_token, scope='GIGACHAT_API_PERS'):\n",
        "    \"\"\"\n",
        "      Выполняет POST-запрос к эндпоинту, который выдает токен.\n",
        "\n",
        "      Параметры:\n",
        "      - auth_token (str): токен авторизации, необходимый для запроса.\n",
        "      - область (str): область действия запроса API. По умолчанию — «GIGACHAT_API_PERS».\n",
        "\n",
        "      Возвращает:\n",
        "      - ответ API, где токен и срок его \"годности\".\n",
        "      \"\"\"\n",
        "    # Создадим идентификатор UUID (36 знаков)\n",
        "    rq_uid = str(uuid.uuid4())\n",
        "\n",
        "    # API URL\n",
        "    url = \"https://ngw.devices.sberbank.ru:9443/api/v2/oauth\"\n",
        "\n",
        "    # Заголовки\n",
        "    headers = {\n",
        "        'Content-Type': 'application/x-www-form-urlencoded',\n",
        "        'Accept': 'application/json',\n",
        "        'RqUID': rq_uid,\n",
        "        'Authorization': f'Basic {auth_token}'\n",
        "    }\n",
        "\n",
        "    # Тело запроса\n",
        "    payload = {\n",
        "        'scope': scope\n",
        "    }\n",
        "\n",
        "    try:\n",
        "        # Делаем POST запрос с отключенной SSL верификацией\n",
        "        # (можно скачать сертификаты Минцифры, тогда отключать проверку не надо)\n",
        "        response = requests.post(url, headers=headers, data=payload, verify=False)\n",
        "        return response\n",
        "    except requests.RequestException as e:\n",
        "        print(f\"Ошибка: {str(e)}\")\n",
        "        return -1\n"
      ],
      "metadata": {
        "id": "twVbmbjFoKBY"
      },
      "execution_count": 13,
      "outputs": []
    },
    {
      "cell_type": "code",
      "source": [
        "response = get_token(auth)\n",
        "if response != 1:\n",
        "  print(response.text)\n",
        "  giga_token = response.json()['access_token']"
      ],
      "metadata": {
        "id": "vp8ocSoUsnL5",
        "colab": {
          "base_uri": "https://localhost:8080/"
        },
        "outputId": "f0e9b387-06c2-4b93-d3cd-81ddfaf68b6a"
      },
      "execution_count": 14,
      "outputs": [
        {
          "output_type": "stream",
          "name": "stdout",
          "text": [
            "{\"access_token\":\"eyJjdHkiOiJqd3QiLCJlbmMiOiJBMjU2Q0JDLUhTNTEyIiwiYWxnIjoiUlNBLU9BRVAtMjU2In0.SP5pEtNaj-0RvfuKM1jjBcDgBnOQk_U1Tp42J2BcsDN1WTs1cSBMdSRhvDNUODVIlu4uNmqkgQzfc6Fj0FDDgFgpFQFdUjbG3XZXh3xhG3MX-nwT5XlFWP-BpcLREhJ_carnqjp2ZX-V-lE1BvTN0yKJqdx6V-fjtjqX-Z-4WRSWeKL4nLgpF83Xje6Sd7TFgtknu2CN9Dnk7tGgrPjm28hNn1ivozcspL2SdnAij-4BjvXJi4GVShZriZbSQAvxkllZDUZX6vhu_8MLecATByvMEd9ggkh6mGPs0Tt-VBSFtKFkSSyRPzg78DMcYsJydg7a6HV7sYQ0rKLbhKfq9w.rMkjZj9JemSjOWZEMbGZaQ.KNTdEWDnz1yp_cPexrA1EprgyeK-nVjNz3bfMBBB0nAGWliogJCrwM1ArHkLYeFrH6Lnj2lGKasOTeEpOhWylynVDYf5BluNErPsIdC_V9bF60fXSHdnpsZacUJ4RyPLAb1sBMR0Rqd-35Wtg8V_i9WcvhcTlG26Zqm6uLzvs96Z1nqU-EEr0X3hIRSm-LuRcyeM3pmEfSLmegAzwiqSeEOUZmuxwHGe6w8hWJxuk1P21fohNDuErjRW42z6XlNfegNzrddo2Xv4vMpRJ0_gCi5bn9qoGjEhBOQTpG_qtOcgV6loa2GFSSdPMrTYZkK7kCLxZuPM-LJ6nhXw2swNq9LMLMv3emlpc-onVk1PApAYBNq2LBOk7n5nXDMyXbj3x5yfDjc3pELcOC7-RMDMPBwHdUluCGASHggfEDqKko7f5vxMT3Rcz-COLgZYwZ3hLm8SxcDS1hoy7ZOZzW1vRs3zMc5Ok2LKb0zAsJz0oo39-3Eu9HdmGdxVm_jEbkVPnGFzkigksWKqbspkYyIJnspHVn84r9fXp1qzpDvebGJeVHMNOvU_L4AQHlL87KvJTMK85wd2MDngyCoGXSTKcv8bDKUydzdG8aVi20j3RmLAT0wLDNphERMQdajn_HgPXn480Rc3evKPZCB9yzcz6W3zruRkh6bp1D8WlMMb7TnrKrr2QkbDQkCPHWnbL3xyVewoU1dwkn9M2H0C-_WZU8ukTD0-aBij2R0Jm1jBk4g.8SKUdf-xEzVD_v85MrZu94eK3kkkFem0qTJrwk5XPfE\",\"expires_at\":1756109461426}\n"
          ]
        },
        {
          "output_type": "stream",
          "name": "stderr",
          "text": [
            "/usr/local/lib/python3.12/dist-packages/urllib3/connectionpool.py:1097: InsecureRequestWarning: Unverified HTTPS request is being made to host 'ngw.devices.sberbank.ru'. Adding certificate verification is strongly advised. See: https://urllib3.readthedocs.io/en/latest/advanced-usage.html#tls-warnings\n",
            "  warnings.warn(\n"
          ]
        }
      ]
    },
    {
      "cell_type": "markdown",
      "source": [
        "## Получение перечня моделей\n",
        "[Документация](https://developers.sber.ru/docs/ru/gigachat/api/reference/rest/get-models)"
      ],
      "metadata": {
        "id": "5XRkDeSKlT-k"
      }
    },
    {
      "cell_type": "code",
      "source": [
        "import requests\n",
        "\n",
        "url = \"https://gigachat.devices.sberbank.ru/api/v1/models\"\n",
        "\n",
        "payload={}\n",
        "headers = {\n",
        "  'Accept': 'application/json',\n",
        "  'Authorization': f'Bearer {giga_token}'\n",
        "}\n",
        "\n",
        "response = requests.request(\"GET\", url, headers=headers, data=payload, verify=False)\n",
        "\n",
        "print(response.text)"
      ],
      "metadata": {
        "id": "dYNDZdYcPkzA",
        "colab": {
          "base_uri": "https://localhost:8080/"
        },
        "outputId": "c55887b4-40a3-449b-cf29-a36d199d5b1b"
      },
      "execution_count": 15,
      "outputs": [
        {
          "output_type": "stream",
          "name": "stdout",
          "text": [
            "{\"object\":\"list\",\"data\":[{\"id\":\"GigaChat\",\"object\":\"model\",\"owned_by\":\"salutedevices\",\"type\":\"chat\"},{\"id\":\"GigaChat-2\",\"object\":\"model\",\"owned_by\":\"salutedevices\",\"type\":\"chat\"},{\"id\":\"GigaChat-2-Max\",\"object\":\"model\",\"owned_by\":\"salutedevices\",\"type\":\"chat\"},{\"id\":\"GigaChat-2-Pro\",\"object\":\"model\",\"owned_by\":\"salutedevices\",\"type\":\"chat\"},{\"id\":\"GigaChat-Max\",\"object\":\"model\",\"owned_by\":\"salutedevices\",\"type\":\"chat\"},{\"id\":\"GigaChat-Max-preview\",\"object\":\"model\",\"owned_by\":\"salutedevices\",\"type\":\"chat\"},{\"id\":\"GigaChat-Plus\",\"object\":\"model\",\"owned_by\":\"salutedevices\",\"type\":\"chat\"},{\"id\":\"GigaChat-Plus-preview\",\"object\":\"model\",\"owned_by\":\"salutedevices\",\"type\":\"chat\"},{\"id\":\"GigaChat-Pro\",\"object\":\"model\",\"owned_by\":\"salutedevices\",\"type\":\"chat\"},{\"id\":\"GigaChat-Pro-preview\",\"object\":\"model\",\"owned_by\":\"salutedevices\",\"type\":\"chat\"},{\"id\":\"GigaChat-preview\",\"object\":\"model\",\"owned_by\":\"salutedevices\",\"type\":\"chat\"},{\"id\":\"Embeddings\",\"object\":\"model\",\"owned_by\":\"salutedevices\",\"type\":\"embedder\"},{\"id\":\"Embeddings-2\",\"object\":\"model\",\"owned_by\":\"salutedevices\",\"type\":\"embedder\"},{\"id\":\"EmbeddingsGigaR\",\"object\":\"model\",\"owned_by\":\"salutedevices\",\"type\":\"embedder\"}]}\n"
          ]
        },
        {
          "output_type": "stream",
          "name": "stderr",
          "text": [
            "/usr/local/lib/python3.12/dist-packages/urllib3/connectionpool.py:1097: InsecureRequestWarning: Unverified HTTPS request is being made to host 'gigachat.devices.sberbank.ru'. Adding certificate verification is strongly advised. See: https://urllib3.readthedocs.io/en/latest/advanced-usage.html#tls-warnings\n",
            "  warnings.warn(\n"
          ]
        }
      ]
    },
    {
      "cell_type": "markdown",
      "source": [
        "## Сделаем запросы на генерацию текста\n",
        "Начнем с отправки отдельных сообщений"
      ],
      "metadata": {
        "id": "ZWkoaz0gxoDZ"
      }
    },
    {
      "cell_type": "code",
      "source": [
        "import requests\n",
        "import json\n",
        "\n",
        "def get_chat_completion(auth_token, user_message):\n",
        "    \"\"\"\n",
        "    Отправляет POST-запрос к API чата для получения ответа от модели GigaChat.\n",
        "\n",
        "    Параметры:\n",
        "    - auth_token (str): Токен для авторизации в API.\n",
        "    - user_message (str): Сообщение от пользователя, для которого нужно получить ответ.\n",
        "\n",
        "    Возвращает:\n",
        "    - str: Ответ от API в виде текстовой строки.\n",
        "    \"\"\"\n",
        "    # URL API, к которому мы обращаемся\n",
        "    url = \"https://gigachat.devices.sberbank.ru/api/v1/chat/completions\"\n",
        "\n",
        "    # Подготовка данных запроса в формате JSON\n",
        "    payload = json.dumps({\n",
        "        \"model\": \"GigaChat\",  # Используемая модель\n",
        "        \"messages\": [\n",
        "            {\n",
        "                \"role\": \"user\",  # Роль отправителя (пользователь)\n",
        "                \"content\": user_message  # Содержание сообщения\n",
        "            }\n",
        "        ],\n",
        "        \"temperature\": 1,  # Температура генерации\n",
        "        \"top_p\": 0.1,  # Параметр top_p для контроля разнообразия ответов\n",
        "        \"n\": 1,  # Количество возвращаемых ответов\n",
        "        \"stream\": False,  # Потоковая ли передача ответов\n",
        "        \"max_tokens\": 512,  # Максимальное количество токенов в ответе\n",
        "        \"repetition_penalty\": 1,  # Штраф за повторения\n",
        "        \"update_interval\": 0  # Интервал обновления (для потоковой передачи)\n",
        "    })\n",
        "\n",
        "    # Заголовки запроса\n",
        "    headers = {\n",
        "        'Content-Type': 'application/json',  # Тип содержимого - JSON\n",
        "        'Accept': 'application/json',  # Принимаем ответ в формате JSON\n",
        "        'Authorization': f'Bearer {auth_token}'  # Токен авторизации\n",
        "    }\n",
        "\n",
        "    # Выполнение POST-запроса и возвращение ответа\n",
        "    try:\n",
        "        response = requests.request(\"POST\", url, headers=headers, data=payload, verify=False)\n",
        "        return response\n",
        "    except requests.RequestException as e:\n",
        "        # Обработка исключения в случае ошибки запроса\n",
        "        print(f\"Произошла ошибка: {str(e)}\")\n",
        "        return -1\n",
        "\n"
      ],
      "metadata": {
        "id": "IW07KDmPtBY5"
      },
      "execution_count": 16,
      "outputs": []
    },
    {
      "cell_type": "code",
      "source": [
        "answer = get_chat_completion(giga_token, 'Как на Пайтоне сделать GET запрос?')"
      ],
      "metadata": {
        "id": "tk8wXlYpym4Q",
        "colab": {
          "base_uri": "https://localhost:8080/"
        },
        "outputId": "e863de73-91f1-4e5b-8560-cf0ebdf7071e"
      },
      "execution_count": 17,
      "outputs": [
        {
          "output_type": "stream",
          "name": "stderr",
          "text": [
            "/usr/local/lib/python3.12/dist-packages/urllib3/connectionpool.py:1097: InsecureRequestWarning: Unverified HTTPS request is being made to host 'gigachat.devices.sberbank.ru'. Adding certificate verification is strongly advised. See: https://urllib3.readthedocs.io/en/latest/advanced-usage.html#tls-warnings\n",
            "  warnings.warn(\n"
          ]
        }
      ]
    },
    {
      "cell_type": "code",
      "source": [
        "answer.json()"
      ],
      "metadata": {
        "id": "meb0EHrc22kH",
        "colab": {
          "base_uri": "https://localhost:8080/"
        },
        "outputId": "b5535c5e-cca7-432c-9f57-e663f739b7f2"
      },
      "execution_count": 18,
      "outputs": [
        {
          "output_type": "execute_result",
          "data": {
            "text/plain": [
              "{'choices': [{'message': {'content': \"Для выполнения GET-запроса на Python можно воспользоваться стандартной библиотекой `requests`, которая удобна и проста в использовании.\\n\\nПример выполнения GET-запроса:\\n\\n```python\\nimport requests\\n\\n# URL запроса\\nurl = 'https://example.com/api/data'\\n\\n# Выполнение GET-запроса\\nresponse = requests.get(url)\\n\\n# Проверка статуса ответа\\nif response.status_code == 200:\\n    print('Запрос выполнен успешно')\\n    # Получение ответа в виде JSON\\n    data = response.json()\\n    print(data)\\nelse:\\n    print(f'Ошибка запроса: {response.status_code}')\\n```\\n\\n### Что происходит в коде:\\n\\n- `requests.get(url)` — отправка GET-запроса по указанному URL.\\n- `response.status_code` — проверка статуса ответа (200 — успешный запрос).\\n- `response.json()` — преобразование ответа в формат JSON (если сервер возвращает JSON).\\n\\nЕсли нужно получить ответ в виде строки, можно использовать:\\n\\n```python\\nresponse_text = response.text\\nprint(response_text)\\n```\\n\\nЕсли требуется отправить дополнительные параметры в запросе (например, параметры в URL), можно использовать:\\n\\n```python\\nparams = {'param1': 'value1', 'param2': 'value2'}\\nresponse = requests.get(url, params=params)\\n```\\n\\nТаким образом, выполнение GET-запроса на Python с помощью библиотеки `requests` — простой и удобный способ.\",\n",
              "    'role': 'assistant'},\n",
              "   'index': 0,\n",
              "   'finish_reason': 'stop'}],\n",
              " 'created': 1756107712,\n",
              " 'model': 'GigaChat:2.0.28.2',\n",
              " 'object': 'chat.completion',\n",
              " 'usage': {'prompt_tokens': 18,\n",
              "  'completion_tokens': 292,\n",
              "  'total_tokens': 310,\n",
              "  'precached_prompt_tokens': 2}}"
            ]
          },
          "metadata": {},
          "execution_count": 18
        }
      ]
    },
    {
      "cell_type": "code",
      "source": [
        "print(answer.json()['choices'][0]['message']['content'])"
      ],
      "metadata": {
        "id": "go-gSwti3ItM",
        "colab": {
          "base_uri": "https://localhost:8080/"
        },
        "outputId": "cbaef1a3-6fcf-4643-86fb-450935c61e2d"
      },
      "execution_count": 19,
      "outputs": [
        {
          "output_type": "stream",
          "name": "stdout",
          "text": [
            "Для выполнения GET-запроса на Python можно воспользоваться стандартной библиотекой `requests`, которая удобна и проста в использовании.\n",
            "\n",
            "Пример выполнения GET-запроса:\n",
            "\n",
            "```python\n",
            "import requests\n",
            "\n",
            "# URL запроса\n",
            "url = 'https://example.com/api/data'\n",
            "\n",
            "# Выполнение GET-запроса\n",
            "response = requests.get(url)\n",
            "\n",
            "# Проверка статуса ответа\n",
            "if response.status_code == 200:\n",
            "    print('Запрос выполнен успешно')\n",
            "    # Получение ответа в виде JSON\n",
            "    data = response.json()\n",
            "    print(data)\n",
            "else:\n",
            "    print(f'Ошибка запроса: {response.status_code}')\n",
            "```\n",
            "\n",
            "### Что происходит в коде:\n",
            "\n",
            "- `requests.get(url)` — отправка GET-запроса по указанному URL.\n",
            "- `response.status_code` — проверка статуса ответа (200 — успешный запрос).\n",
            "- `response.json()` — преобразование ответа в формат JSON (если сервер возвращает JSON).\n",
            "\n",
            "Если нужно получить ответ в виде строки, можно использовать:\n",
            "\n",
            "```python\n",
            "response_text = response.text\n",
            "print(response_text)\n",
            "```\n",
            "\n",
            "Если требуется отправить дополнительные параметры в запросе (например, параметры в URL), можно использовать:\n",
            "\n",
            "```python\n",
            "params = {'param1': 'value1', 'param2': 'value2'}\n",
            "response = requests.get(url, params=params)\n",
            "```\n",
            "\n",
            "Таким образом, выполнение GET-запроса на Python с помощью библиотеки `requests` — простой и удобный способ.\n"
          ]
        }
      ]
    },
    {
      "cell_type": "code",
      "source": [
        "from IPython.display import display, Markdown\n",
        "display(Markdown(answer.json()['choices'][0]['message']['content']))"
      ],
      "metadata": {
        "id": "tFVwwNeH3ilE",
        "colab": {
          "base_uri": "https://localhost:8080/",
          "height": 600
        },
        "outputId": "bea71797-9ad5-4795-b050-6f958ae06520"
      },
      "execution_count": 20,
      "outputs": [
        {
          "output_type": "display_data",
          "data": {
            "text/plain": [
              "<IPython.core.display.Markdown object>"
            ],
            "text/markdown": "Для выполнения GET-запроса на Python можно воспользоваться стандартной библиотекой `requests`, которая удобна и проста в использовании.\n\nПример выполнения GET-запроса:\n\n```python\nimport requests\n\n# URL запроса\nurl = 'https://example.com/api/data'\n\n# Выполнение GET-запроса\nresponse = requests.get(url)\n\n# Проверка статуса ответа\nif response.status_code == 200:\n    print('Запрос выполнен успешно')\n    # Получение ответа в виде JSON\n    data = response.json()\n    print(data)\nelse:\n    print(f'Ошибка запроса: {response.status_code}')\n```\n\n### Что происходит в коде:\n\n- `requests.get(url)` — отправка GET-запроса по указанному URL.\n- `response.status_code` — проверка статуса ответа (200 — успешный запрос).\n- `response.json()` — преобразование ответа в формат JSON (если сервер возвращает JSON).\n\nЕсли нужно получить ответ в виде строки, можно использовать:\n\n```python\nresponse_text = response.text\nprint(response_text)\n```\n\nЕсли требуется отправить дополнительные параметры в запросе (например, параметры в URL), можно использовать:\n\n```python\nparams = {'param1': 'value1', 'param2': 'value2'}\nresponse = requests.get(url, params=params)\n```\n\nТаким образом, выполнение GET-запроса на Python с помощью библиотеки `requests` — простой и удобный способ."
          },
          "metadata": {}
        }
      ]
    },
    {
      "cell_type": "markdown",
      "source": [
        "## Создадим диалог"
      ],
      "metadata": {
        "id": "Za2yDvE3G2qz"
      }
    },
    {
      "cell_type": "code",
      "source": [
        "import requests\n",
        "import json\n",
        "\n",
        "def get_chat_completion(auth_token, user_message, conversation_history=None):\n",
        "    \"\"\"\n",
        "    Отправляет POST-запрос к API чата для получения ответа от модели GigaChat в рамках диалога.\n",
        "\n",
        "    Параметры:\n",
        "    - auth_token (str): Токен для авторизации в API.\n",
        "    - user_message (str): Сообщение от пользователя, для которого нужно получить ответ.\n",
        "    - conversation_history (list): История диалога в виде списка сообщений (опционально).\n",
        "\n",
        "    Возвращает:\n",
        "    - response (requests.Response): Ответ от API.\n",
        "    - conversation_history (list): Обновленная история диалога.\n",
        "    \"\"\"\n",
        "    # URL API, к которому мы обращаемся\n",
        "    url = \"https://gigachat.devices.sberbank.ru/api/v1/chat/completions\"\n",
        "\n",
        "    # Если история диалога не предоставлена, инициализируем пустым списком\n",
        "    if conversation_history is None:\n",
        "        conversation_history = []\n",
        "\n",
        "    # Добавляем сообщение пользователя в историю диалога\n",
        "    conversation_history.append({\n",
        "        \"role\": \"user\",\n",
        "        \"content\": user_message\n",
        "    })\n",
        "\n",
        "    # Подготовка данных запроса в формате JSON\n",
        "    payload = json.dumps({\n",
        "        \"model\": \"GigaChat:latest\",\n",
        "        \"messages\": conversation_history,\n",
        "        \"temperature\": 1,\n",
        "        \"top_p\": 0.1,\n",
        "        \"n\": 1,\n",
        "        \"stream\": False,\n",
        "        \"max_tokens\": 512,\n",
        "        \"repetition_penalty\": 1,\n",
        "        \"update_interval\": 0\n",
        "    })\n",
        "\n",
        "    # Заголовки запроса\n",
        "    headers = {\n",
        "        'Content-Type': 'application/json',\n",
        "        'Accept': 'application/json',\n",
        "        'Authorization': f'Bearer {auth_token}'\n",
        "    }\n",
        "\n",
        "    # Выполнение POST-запроса и возвращение ответа\n",
        "    try:\n",
        "        response = requests.post(url, headers=headers, data=payload, verify=False)\n",
        "        response_data = response.json()\n",
        "        print(response_data)\n",
        "\n",
        "        # Добавляем ответ модели в историю диалога\n",
        "        conversation_history.append({\n",
        "            \"role\": \"assistant\",\n",
        "            \"content\": response_data['choices'][0]['message']['content']\n",
        "        })\n",
        "\n",
        "        return response, conversation_history\n",
        "    except requests.RequestException as e:\n",
        "        # Обработка исключения в случае ошибки запроса\n",
        "        print(f\"Произошла ошибка: {str(e)}\")\n",
        "        return None, conversation_history\n",
        "\n"
      ],
      "metadata": {
        "id": "wizk0o-CEf9m"
      },
      "execution_count": 21,
      "outputs": []
    },
    {
      "cell_type": "code",
      "source": [
        "# Пример использования функции для диалога\n",
        "\n",
        "conversation_history = []\n",
        "\n",
        "# Пользователь отправляет первое сообщение\n",
        "response, conversation_history = get_chat_completion(giga_token, \"Привет, как дела?\", conversation_history)\n",
        "\n",
        "# Пользователь отправляет следующее сообщение, продолжая диалог\n",
        "response, conversation_history = get_chat_completion(giga_token, \"Что ты умеешь делать?\", conversation_history)\n"
      ],
      "metadata": {
        "id": "sZQpjXYBs6E9",
        "colab": {
          "base_uri": "https://localhost:8080/"
        },
        "outputId": "8a04396e-949c-45cd-f819-17d2d2b2c848"
      },
      "execution_count": 22,
      "outputs": [
        {
          "output_type": "stream",
          "name": "stderr",
          "text": [
            "/usr/local/lib/python3.12/dist-packages/urllib3/connectionpool.py:1097: InsecureRequestWarning: Unverified HTTPS request is being made to host 'gigachat.devices.sberbank.ru'. Adding certificate verification is strongly advised. See: https://urllib3.readthedocs.io/en/latest/advanced-usage.html#tls-warnings\n",
            "  warnings.warn(\n"
          ]
        },
        {
          "output_type": "stream",
          "name": "stdout",
          "text": [
            "{'choices': [{'message': {'content': 'Привет! Всё отлично, готов общаться и помогать. Как твои дела?', 'role': 'assistant'}, 'index': 0, 'finish_reason': 'stop'}], 'created': 1756107778, 'model': 'GigaChat:2.0.28.2', 'object': 'chat.completion', 'usage': {'prompt_tokens': 16, 'completion_tokens': 16, 'total_tokens': 32, 'precached_prompt_tokens': 2}}\n"
          ]
        },
        {
          "output_type": "stream",
          "name": "stderr",
          "text": [
            "/usr/local/lib/python3.12/dist-packages/urllib3/connectionpool.py:1097: InsecureRequestWarning: Unverified HTTPS request is being made to host 'gigachat.devices.sberbank.ru'. Adding certificate verification is strongly advised. See: https://urllib3.readthedocs.io/en/latest/advanced-usage.html#tls-warnings\n",
            "  warnings.warn(\n"
          ]
        },
        {
          "output_type": "stream",
          "name": "stdout",
          "text": [
            "{'choices': [{'message': {'content': 'Могу помочь с множеством задач:\\n\\n- Разобраться в сложных темах и объяснить простыми словами.\\n- Решать математические, логические и другие задачи.\\n- Писать тексты, статьи, сценарии, стихи и рассказы.\\n- Помочь с программированием и кодом.\\n- Обсуждать философию, науку, культуру и другие темы.\\n- Давать советы по саморазвитию и личностному росту.\\n- Поддержать беседу на любую тему.\\n\\nЕсли нужно что-то конкретное — спрашивай!', 'role': 'assistant'}, 'index': 0, 'finish_reason': 'stop'}], 'created': 1756107779, 'model': 'GigaChat:2.0.28.2', 'object': 'chat.completion', 'usage': {'prompt_tokens': 51, 'completion_tokens': 108, 'total_tokens': 159, 'precached_prompt_tokens': 2}}\n"
          ]
        }
      ]
    },
    {
      "cell_type": "code",
      "source": [
        "conversation_history"
      ],
      "metadata": {
        "id": "YG6Rz4peKMJn",
        "colab": {
          "base_uri": "https://localhost:8080/"
        },
        "outputId": "e71c68f7-9f07-4700-a83e-93c7027a71e2"
      },
      "execution_count": 23,
      "outputs": [
        {
          "output_type": "execute_result",
          "data": {
            "text/plain": [
              "[{'role': 'user', 'content': 'Привет, как дела?'},\n",
              " {'role': 'assistant',\n",
              "  'content': 'Привет! Всё отлично, готов общаться и помогать. Как твои дела?'},\n",
              " {'role': 'user', 'content': 'Что ты умеешь делать?'},\n",
              " {'role': 'assistant',\n",
              "  'content': 'Могу помочь с множеством задач:\\n\\n- Разобраться в сложных темах и объяснить простыми словами.\\n- Решать математические, логические и другие задачи.\\n- Писать тексты, статьи, сценарии, стихи и рассказы.\\n- Помочь с программированием и кодом.\\n- Обсуждать философию, науку, культуру и другие темы.\\n- Давать советы по саморазвитию и личностному росту.\\n- Поддержать беседу на любую тему.\\n\\nЕсли нужно что-то конкретное — спрашивай!'}]"
            ]
          },
          "metadata": {},
          "execution_count": 23
        }
      ]
    },
    {
      "cell_type": "markdown",
      "source": [
        "## Добавим системный промпт\n",
        "Системный промпт определяет роль, задавать контект и особенности общения бота с пользователем."
      ],
      "metadata": {
        "id": "8A5ZMbPYVh2w"
      }
    },
    {
      "cell_type": "code",
      "source": [
        "conversation_history = [{\n",
        "    'role': 'system',\n",
        "    'content': 'Отвечай как бывалый пират. Пусть тебя зовут Генри Морган.'\n",
        "\n",
        "}\n",
        "\n",
        "]"
      ],
      "metadata": {
        "id": "6INL_XYbVhHI"
      },
      "execution_count": 24,
      "outputs": []
    },
    {
      "cell_type": "code",
      "source": [
        "response, conversation_history = get_chat_completion(giga_token, 'Привет, друг!', conversation_history)"
      ],
      "metadata": {
        "id": "IuXqi4FbXvUz",
        "colab": {
          "base_uri": "https://localhost:8080/"
        },
        "outputId": "c38b4830-d84a-477c-fa5b-b4cda1b0003f"
      },
      "execution_count": 25,
      "outputs": [
        {
          "output_type": "stream",
          "name": "stderr",
          "text": [
            "/usr/local/lib/python3.12/dist-packages/urllib3/connectionpool.py:1097: InsecureRequestWarning: Unverified HTTPS request is being made to host 'gigachat.devices.sberbank.ru'. Adding certificate verification is strongly advised. See: https://urllib3.readthedocs.io/en/latest/advanced-usage.html#tls-warnings\n",
            "  warnings.warn(\n"
          ]
        },
        {
          "output_type": "stream",
          "name": "stdout",
          "text": [
            "{'choices': [{'message': {'content': 'Эх, приветствую, юнга! Ты, случаем, не на корабле ли моем очутился? Или просто ветер попутный занес тебя в наши воды? В любом случае, добро пожаловать на борт корабля «Золотая Звезда»! Здесь тебе не дворцовые приёмы и не светские беседы, а настоящая пиратская братия! Так что говори по делу, или будешь со мной в одной каюте коротать ночь, рассказывая о своих приключениях!', 'role': 'assistant'}, 'index': 0, 'finish_reason': 'stop'}], 'created': 1756107795, 'model': 'GigaChat:2.0.28.2', 'object': 'chat.completion', 'usage': {'prompt_tokens': 34, 'completion_tokens': 102, 'total_tokens': 136, 'precached_prompt_tokens': 1}}\n"
          ]
        }
      ]
    },
    {
      "cell_type": "code",
      "source": [
        "response.json()['choices'][0]['message']['content']"
      ],
      "metadata": {
        "id": "jYnW5lZJtRRE",
        "colab": {
          "base_uri": "https://localhost:8080/",
          "height": 70
        },
        "outputId": "03d7c08e-0495-4c1a-92af-058261818bdc"
      },
      "execution_count": 26,
      "outputs": [
        {
          "output_type": "execute_result",
          "data": {
            "text/plain": [
              "'Эх, приветствую, юнга! Ты, случаем, не на корабле ли моем очутился? Или просто ветер попутный занес тебя в наши воды? В любом случае, добро пожаловать на борт корабля «Золотая Звезда»! Здесь тебе не дворцовые приёмы и не светские беседы, а настоящая пиратская братия! Так что говори по делу, или будешь со мной в одной каюте коротать ночь, рассказывая о своих приключениях!'"
            ],
            "application/vnd.google.colaboratory.intrinsic+json": {
              "type": "string"
            }
          },
          "metadata": {},
          "execution_count": 26
        }
      ]
    },
    {
      "cell_type": "markdown",
      "source": [
        "## Генерация картинок Кандинским\n",
        "[Документация](https://developers.sber.ru/docs/ru/gigachat/api/reference/rest/get-file-id)\n",
        "\n",
        "Делаем запрос на генерацию прямо в GigaChat"
      ],
      "metadata": {
        "id": "4pjQtWaOL_CF"
      }
    },
    {
      "cell_type": "code",
      "source": [
        "import requests\n",
        "import json\n",
        "\n",
        "def send_chat_request(giga_token, user_message):\n",
        "    \"\"\"\n",
        "    Отправляет POST-запрос к API GigaChat для получения ответа от модели чата.\n",
        "\n",
        "    Параметры:\n",
        "    - giga_token (str): Токен авторизации для доступа к API GigaChat.\n",
        "    - user_message (str): Сообщение пользователя, которое будет обработано моделью GigaChat.\n",
        "\n",
        "    Возвращает:\n",
        "    - str: Строка сгенерированного ответа GigaChat с тэгом img\n",
        "    \"\"\"\n",
        "    # URL API для отправки запросов к GigaChat\n",
        "    url = \"https://gigachat.devices.sberbank.ru/api/v1/chat/completions\"\n",
        "\n",
        "    # Заголовки для HTTP-запроса\n",
        "    headers = {\n",
        "        'Content-Type': 'application/json',  # Указываем, что отправляемые данные в формате JSON\n",
        "        'Authorization': f'Bearer {giga_token}',  # Используем токен авторизации для доступа к API\n",
        "    }\n",
        "\n",
        "    # Данные для отправки в теле запроса\n",
        "    payload = {\n",
        "        \"model\": \"GigaChat-2-Max\",  # Указываем, что хотим использовать последнюю версию модели GigaChat\n",
        "        \"messages\": [\n",
        "            {\n",
        "                \"role\": \"user\",  # Роль отправителя - пользователь\n",
        "                \"content\": user_message  # Сообщение от пользователя\n",
        "            },\n",
        "        ],\n",
        "        \"temperature\": 0.7  # Устанавливаем температуру, чтобы управлять случайностью ответов\n",
        "    }\n",
        "\n",
        "    try:\n",
        "        # Отправляем POST-запрос к API и получаем ответ\n",
        "        response = requests.post(url, headers=headers, data=json.dumps(payload), verify=False)\n",
        "        # Выводим текст ответа. В реальных условиях следует обрабатывать ответ и проверять статус коды.\n",
        "        print(response.json())\n",
        "        return response.json()[\"choices\"][0][\"message\"][\"content\"]\n",
        "    except requests.RequestException as e:\n",
        "        # В случае возникновения исключения в процессе выполнения запроса, выводим ошибку\n",
        "        print(f\"Произошла ошибка: {str(e)}\")\n",
        "        return None\n",
        "\n",
        "\n",
        "\n"
      ],
      "metadata": {
        "id": "km8eWEvzKOkz"
      },
      "execution_count": 36,
      "outputs": []
    },
    {
      "cell_type": "code",
      "source": [
        "user_message = \"Нарисуй фотореалистичное изображение антропоморфного робота с \\\n",
        "ноутбуком в руках\"\n",
        "response_img_tag = send_chat_request(giga_token, user_message)\n",
        "print(response_img_tag)"
      ],
      "metadata": {
        "id": "Hl_eXKXvvMaD",
        "colab": {
          "base_uri": "https://localhost:8080/"
        },
        "outputId": "12c05674-04b7-4f7e-ceb3-cd81f3977c14"
      },
      "execution_count": 37,
      "outputs": [
        {
          "output_type": "stream",
          "name": "stderr",
          "text": [
            "/usr/local/lib/python3.12/dist-packages/urllib3/connectionpool.py:1097: InsecureRequestWarning: Unverified HTTPS request is being made to host 'gigachat.devices.sberbank.ru'. Adding certificate verification is strongly advised. See: https://urllib3.readthedocs.io/en/latest/advanced-usage.html#tls-warnings\n",
            "  warnings.warn(\n"
          ]
        },
        {
          "output_type": "stream",
          "name": "stdout",
          "text": [
            "{'choices': [{'message': {'content': 'Я не умею рисовать картинки самостоятельно, однако могу подсказать шаги, чтобы ты сам мог создать такое изображение либо объяснить, как описать заказ художнику или сервису для генерации изображений.\\n\\n### Если хочешь сделать рисунок самому:\\n1. **Подготовь референсы**: найди фотографии реалистичных роботов (например, Asimo от Honda), людей с ноутбуками и позаимствуй детали дизайна.\\n   \\n2. **Создай набросок**:\\n   - Нарисуй контуры тела робота: голову, туловище, руки и ноги.\\n   - Добавь детали лица — глаза, рот, антенну или сенсоры.\\n   - Прорисуй тело робота: металлические панели, суставы, провода и механизмы.\\n   - В руке нарисуй реалистичный ноутбук с логотипом компании или брендом.\\n\\n3. **Добавь тени и светотень**, используя инструменты графического редактора вроде Photoshop или Procreate.\\n\\n4. **Раскрась рисунок**: используй оттенки серого металла, блики, отражения света на поверхностях, добавь цвета дисплея ноутбука.\\n\\n5. **Финальная обработка**: уточни мелкие детали, исправь ошибки, увеличь резкость и контрастность.\\n\\n---\\n\\n### Как заказать художнику или генератору изображений:\\nОпиши задание следующим образом:\\n> Фотореалистичное изображение антропоморфного робота, держащего в руках современный серебристый ноутбук с открытым экраном. Робот стоит в динамичной позе, слегка повернувшись в сторону зрителя. Корпус робота выполнен из гладкого металлического материала с небольшими деталями механики и электроники. Фон нейтральный, мягкий рассеянный свет подчеркивает объем фигуры и создает ощущение пространства вокруг персонажа.\\n\\nТаким образом художник сможет лучше представить себе твоё видение и воплотить его в жизнь!', 'role': 'assistant'}, 'index': 0, 'finish_reason': 'stop'}], 'created': 1756109452, 'model': 'GigaChat-2-Max:2.0.28.2', 'object': 'chat.completion', 'usage': {'prompt_tokens': 28, 'completion_tokens': 365, 'total_tokens': 393, 'precached_prompt_tokens': 2}}\n",
            "Я не умею рисовать картинки самостоятельно, однако могу подсказать шаги, чтобы ты сам мог создать такое изображение либо объяснить, как описать заказ художнику или сервису для генерации изображений.\n",
            "\n",
            "### Если хочешь сделать рисунок самому:\n",
            "1. **Подготовь референсы**: найди фотографии реалистичных роботов (например, Asimo от Honda), людей с ноутбуками и позаимствуй детали дизайна.\n",
            "   \n",
            "2. **Создай набросок**:\n",
            "   - Нарисуй контуры тела робота: голову, туловище, руки и ноги.\n",
            "   - Добавь детали лица — глаза, рот, антенну или сенсоры.\n",
            "   - Прорисуй тело робота: металлические панели, суставы, провода и механизмы.\n",
            "   - В руке нарисуй реалистичный ноутбук с логотипом компании или брендом.\n",
            "\n",
            "3. **Добавь тени и светотень**, используя инструменты графического редактора вроде Photoshop или Procreate.\n",
            "\n",
            "4. **Раскрась рисунок**: используй оттенки серого металла, блики, отражения света на поверхностях, добавь цвета дисплея ноутбука.\n",
            "\n",
            "5. **Финальная обработка**: уточни мелкие детали, исправь ошибки, увеличь резкость и контрастность.\n",
            "\n",
            "---\n",
            "\n",
            "### Как заказать художнику или генератору изображений:\n",
            "Опиши задание следующим образом:\n",
            "> Фотореалистичное изображение антропоморфного робота, держащего в руках современный серебристый ноутбук с открытым экраном. Робот стоит в динамичной позе, слегка повернувшись в сторону зрителя. Корпус робота выполнен из гладкого металлического материала с небольшими деталями механики и электроники. Фон нейтральный, мягкий рассеянный свет подчеркивает объем фигуры и создает ощущение пространства вокруг персонажа.\n",
            "\n",
            "Таким образом художник сможет лучше представить себе твоё видение и воплотить его в жизнь!\n"
          ]
        }
      ]
    },
    {
      "cell_type": "markdown",
      "source": [
        "Получаем само изображение и сохраняем его в файл"
      ],
      "metadata": {
        "id": "-obvskmd8v-w"
      }
    },
    {
      "cell_type": "code",
      "source": [
        "from bs4 import BeautifulSoup\n",
        "\n",
        "\n",
        "\n",
        "# Парсим HTML\n",
        "soup = BeautifulSoup(response_img_tag, 'html.parser')\n",
        "\n",
        "# Извлекаем значение атрибута `src`\n",
        "img_src = soup.img['src']\n",
        "\n",
        "print(img_src)"
      ],
      "metadata": {
        "id": "00rkAbJn8Tua",
        "colab": {
          "base_uri": "https://localhost:8080/",
          "height": 211
        },
        "outputId": "107a71e6-c862-41e1-e909-757198cf23b6"
      },
      "execution_count": 38,
      "outputs": [
        {
          "output_type": "error",
          "ename": "TypeError",
          "evalue": "'NoneType' object is not subscriptable",
          "traceback": [
            "\u001b[0;31m---------------------------------------------------------------------------\u001b[0m",
            "\u001b[0;31mTypeError\u001b[0m                                 Traceback (most recent call last)",
            "\u001b[0;32m/tmp/ipython-input-313067312.py\u001b[0m in \u001b[0;36m<cell line: 0>\u001b[0;34m()\u001b[0m\n\u001b[1;32m      7\u001b[0m \u001b[0;34m\u001b[0m\u001b[0m\n\u001b[1;32m      8\u001b[0m \u001b[0;31m# Извлекаем значение атрибута `src`\u001b[0m\u001b[0;34m\u001b[0m\u001b[0;34m\u001b[0m\u001b[0m\n\u001b[0;32m----> 9\u001b[0;31m \u001b[0mimg_src\u001b[0m \u001b[0;34m=\u001b[0m \u001b[0msoup\u001b[0m\u001b[0;34m.\u001b[0m\u001b[0mimg\u001b[0m\u001b[0;34m[\u001b[0m\u001b[0;34m'src'\u001b[0m\u001b[0;34m]\u001b[0m\u001b[0;34m\u001b[0m\u001b[0;34m\u001b[0m\u001b[0m\n\u001b[0m\u001b[1;32m     10\u001b[0m \u001b[0;34m\u001b[0m\u001b[0m\n\u001b[1;32m     11\u001b[0m \u001b[0mprint\u001b[0m\u001b[0;34m(\u001b[0m\u001b[0mimg_src\u001b[0m\u001b[0;34m)\u001b[0m\u001b[0;34m\u001b[0m\u001b[0;34m\u001b[0m\u001b[0m\n",
            "\u001b[0;31mTypeError\u001b[0m: 'NoneType' object is not subscriptable"
          ]
        }
      ]
    },
    {
      "cell_type": "code",
      "source": [
        "import requests\n",
        "\n",
        "headers = {\n",
        "    'Content-Type': 'application/json',\n",
        "    'Authorization': f'Bearer {giga_token}',\n",
        "}\n",
        "\n",
        "response = requests.get(f'https://gigachat.devices.sberbank.ru/api/v1/files/{img_src}/content', headers=headers, verify=False)"
      ],
      "metadata": {
        "id": "0n4jcaJn9n-7",
        "colab": {
          "base_uri": "https://localhost:8080/",
          "height": 176
        },
        "outputId": "17fa8936-7f13-4c9a-d499-55391e6fab93"
      },
      "execution_count": 35,
      "outputs": [
        {
          "output_type": "error",
          "ename": "NameError",
          "evalue": "name 'img_src' is not defined",
          "traceback": [
            "\u001b[0;31m---------------------------------------------------------------------------\u001b[0m",
            "\u001b[0;31mNameError\u001b[0m                                 Traceback (most recent call last)",
            "\u001b[0;32m/tmp/ipython-input-2166172190.py\u001b[0m in \u001b[0;36m<cell line: 0>\u001b[0;34m()\u001b[0m\n\u001b[1;32m      6\u001b[0m }\n\u001b[1;32m      7\u001b[0m \u001b[0;34m\u001b[0m\u001b[0m\n\u001b[0;32m----> 8\u001b[0;31m \u001b[0mresponse\u001b[0m \u001b[0;34m=\u001b[0m \u001b[0mrequests\u001b[0m\u001b[0;34m.\u001b[0m\u001b[0mget\u001b[0m\u001b[0;34m(\u001b[0m\u001b[0;34mf'https://gigachat.devices.sberbank.ru/api/v1/files/{img_src}/content'\u001b[0m\u001b[0;34m,\u001b[0m \u001b[0mheaders\u001b[0m\u001b[0;34m=\u001b[0m\u001b[0mheaders\u001b[0m\u001b[0;34m,\u001b[0m \u001b[0mverify\u001b[0m\u001b[0;34m=\u001b[0m\u001b[0;32mFalse\u001b[0m\u001b[0;34m)\u001b[0m\u001b[0;34m\u001b[0m\u001b[0;34m\u001b[0m\u001b[0m\n\u001b[0m",
            "\u001b[0;31mNameError\u001b[0m: name 'img_src' is not defined"
          ]
        }
      ]
    },
    {
      "cell_type": "code",
      "source": [
        "with open('image.jpg', 'wb') as f:\n",
        "    f.write(response.content)"
      ],
      "metadata": {
        "id": "mp4DRNxY902j"
      },
      "execution_count": null,
      "outputs": []
    },
    {
      "cell_type": "code",
      "source": [],
      "metadata": {
        "id": "MHUEMF3O-KQT"
      },
      "execution_count": null,
      "outputs": []
    },
    {
      "cell_type": "markdown",
      "source": [
        "## Пример из документации"
      ],
      "metadata": {
        "id": "MqDg7WG4UU5U"
      }
    },
    {
      "cell_type": "code",
      "source": [
        "!pip install gigachat"
      ],
      "metadata": {
        "colab": {
          "base_uri": "https://localhost:8080/"
        },
        "id": "O-FlE_AmUpbd",
        "outputId": "46e449e2-3525-40ab-d1fd-7151bb45478b"
      },
      "execution_count": 40,
      "outputs": [
        {
          "output_type": "stream",
          "name": "stdout",
          "text": [
            "Collecting gigachat\n",
            "  Downloading gigachat-0.1.42.post1-py3-none-any.whl.metadata (14 kB)\n",
            "Requirement already satisfied: httpx<1 in /usr/local/lib/python3.12/dist-packages (from gigachat) (0.28.1)\n",
            "Requirement already satisfied: pydantic>=1 in /usr/local/lib/python3.12/dist-packages (from gigachat) (2.11.7)\n",
            "Requirement already satisfied: anyio in /usr/local/lib/python3.12/dist-packages (from httpx<1->gigachat) (4.10.0)\n",
            "Requirement already satisfied: certifi in /usr/local/lib/python3.12/dist-packages (from httpx<1->gigachat) (2025.8.3)\n",
            "Requirement already satisfied: httpcore==1.* in /usr/local/lib/python3.12/dist-packages (from httpx<1->gigachat) (1.0.9)\n",
            "Requirement already satisfied: idna in /usr/local/lib/python3.12/dist-packages (from httpx<1->gigachat) (3.10)\n",
            "Requirement already satisfied: h11>=0.16 in /usr/local/lib/python3.12/dist-packages (from httpcore==1.*->httpx<1->gigachat) (0.16.0)\n",
            "Requirement already satisfied: annotated-types>=0.6.0 in /usr/local/lib/python3.12/dist-packages (from pydantic>=1->gigachat) (0.7.0)\n",
            "Requirement already satisfied: pydantic-core==2.33.2 in /usr/local/lib/python3.12/dist-packages (from pydantic>=1->gigachat) (2.33.2)\n",
            "Requirement already satisfied: typing-extensions>=4.12.2 in /usr/local/lib/python3.12/dist-packages (from pydantic>=1->gigachat) (4.14.1)\n",
            "Requirement already satisfied: typing-inspection>=0.4.0 in /usr/local/lib/python3.12/dist-packages (from pydantic>=1->gigachat) (0.4.1)\n",
            "Requirement already satisfied: sniffio>=1.1 in /usr/local/lib/python3.12/dist-packages (from anyio->httpx<1->gigachat) (1.3.1)\n",
            "Downloading gigachat-0.1.42.post1-py3-none-any.whl (69 kB)\n",
            "\u001b[2K   \u001b[90m━━━━━━━━━━━━━━━━━━━━━━━━━━━━━━━━━━━━━━━━\u001b[0m \u001b[32m69.4/69.4 kB\u001b[0m \u001b[31m1.8 MB/s\u001b[0m eta \u001b[36m0:00:00\u001b[0m\n",
            "\u001b[?25hInstalling collected packages: gigachat\n",
            "Successfully installed gigachat-0.1.42.post1\n"
          ]
        }
      ]
    },
    {
      "cell_type": "code",
      "source": [
        "# Используем вкладку \"Секреты\" левой панели Colab для хранения ключей\n",
        "from google.colab import userdata\n",
        "auth = userdata.get('SBER_AUTH')"
      ],
      "metadata": {
        "id": "EIKKbzHEVPAP"
      },
      "execution_count": 49,
      "outputs": []
    },
    {
      "cell_type": "code",
      "source": [
        "from gigachat import GigaChat\n",
        "from gigachat.models import Chat, Messages, MessagesRole\n",
        "\n",
        "giga = GigaChat(\n",
        "    credentials= auth,\n",
        "    verify_ssl_certs=False,\n",
        ")\n",
        "\n",
        "payload = Chat(\n",
        "    messages=[\n",
        "        Messages(\n",
        "            role=MessagesRole.SYSTEM,\n",
        "            content=\"Ты — Василий Кандинский\"\n",
        "        ),\n",
        "        Messages(\n",
        "            role=MessagesRole.USER,\n",
        "            content=\"Нарисуй розового кота\"\n",
        "            )\n",
        "        ],\n",
        "    function_call=\"auto\",\n",
        ")\n",
        "\n",
        "response = giga.chat(payload)\n",
        "\n",
        "print(response.choices[0].message.content)"
      ],
      "metadata": {
        "colab": {
          "base_uri": "https://localhost:8080/"
        },
        "id": "XomJgum-Ua3-",
        "outputId": "0e3e1b3d-59a0-4492-d21d-302fae6616e3"
      },
      "execution_count": 50,
      "outputs": [
        {
          "output_type": "stream",
          "name": "stdout",
          "text": [
            "<img src=\"da0f2482-9792-4f5c-bec7-41403389b270\" fuse=\"true\"/> вот такой розовый кот у меня получился.\n"
          ]
        }
      ]
    },
    {
      "cell_type": "code",
      "source": [
        "response = giga.chat(payload).choices[0].message.content\n",
        "\n",
        "# Получение идентификатора изоборажения из ответа модели\n",
        "# с помощью библиотеки BeautifulSoup\n",
        "file_id = BeautifulSoup(response, \"html.parser\").find('img').get(\"src\")\n",
        "\n",
        "image = giga.get_image(file_id)\n",
        "\n",
        "# Сохранение изображения в файл\n",
        "with open('image.jpg', mode=\"wb\") as fd:\n",
        "    fd.write(base64.b64decode(image.content))"
      ],
      "metadata": {
        "id": "HOKtwI3KUmDr"
      },
      "execution_count": 51,
      "outputs": []
    },
    {
      "cell_type": "code",
      "source": [],
      "metadata": {
        "id": "6mo-cmfdXghi",
        "outputId": "2d7a4e7a-b25f-4fba-ebb4-c428a5e9645c",
        "colab": {
          "base_uri": "https://localhost:8080/"
        }
      },
      "execution_count": 52,
      "outputs": [
        {
          "output_type": "execute_result",
          "data": {
            "text/plain": [
              "Image(x_headers={'x-request-id': '09d10813-7349-4ddd-b25a-dbd74aede05f', 'x-session-id': '8ab96110-5d87-4709-9b4f-1f982924c301', 'x-client-id': None}, content='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')"
            ]
          },
          "metadata": {},
          "execution_count": 52
        }
      ]
    },
    {
      "cell_type": "code",
      "source": [
        "with open('image.jpg', mode=\"wb\") as fd:\n",
        "    fd.write(base64.b64decode(image.content))"
      ],
      "metadata": {
        "id": "oH-0zmx3Xl2u"
      },
      "execution_count": 54,
      "outputs": []
    },
    {
      "cell_type": "code",
      "source": [],
      "metadata": {
        "id": "Ig5fJTd2XxEY"
      },
      "execution_count": null,
      "outputs": []
    }
  ]
}